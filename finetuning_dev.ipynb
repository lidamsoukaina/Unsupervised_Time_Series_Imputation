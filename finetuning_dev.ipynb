{
 "cells": [
  {
   "cell_type": "markdown",
   "id": "b6bb48b7-d2b8-4964-8c6a-38f2dc0a8039",
   "metadata": {
    "tags": []
   },
   "source": [
    "# **Modules**"
   ]
  },
  {
   "cell_type": "code",
   "execution_count": 1,
   "id": "468e0cff-40f0-49ef-99d4-534e85e867ad",
   "metadata": {
    "tags": []
   },
   "outputs": [
    {
     "name": "stderr",
     "output_type": "stream",
     "text": [
      "Matplotlib created a temporary config/cache directory at /tmp/matplotlib-2o5ujrtf because the default path (/home/upbeat_liskov/.config/matplotlib) is not a writable directory; it is highly recommended to set the MPLCONFIGDIR environment variable to a writable directory, in particular to speed up the import of Matplotlib and to better support multiprocessing.\n"
     ]
    }
   ],
   "source": [
    "import warnings\n",
    "warnings.filterwarnings('ignore')\n",
    "\n",
    "from sklearn.model_selection import train_test_split\n",
    "from sklearn.experimental import enable_iterative_imputer\n",
    "from sklearn.impute import SimpleImputer, KNNImputer, IterativeImputer\n",
    "from sklearn.metrics import mean_squared_error, mean_absolute_error\n",
    "from sklearn.preprocessing import MinMaxScaler\n",
    "\n",
    "import torch\n",
    "import torch.nn as nn\n",
    "from torch.optim.lr_scheduler import ExponentialLR\n",
    "import torch.nn.functional as F\n",
    "from torch.utils.data import Dataset\n",
    "from torch.utils.data import DataLoader\n",
    "\n",
    "import datetime\n",
    "import numpy as np\n",
    "import pandas as pd\n",
    "\n",
    "import copy\n",
    "import math\n",
    "\n",
    "import scipy.stats as stats\n",
    "\n",
    "import matplotlib.pyplot as plt\n",
    "import seaborn as sns\n",
    "plt.rc('figure', figsize=(12, 3))\n",
    "import optuna\n",
    "from typing import Literal, Tuple\n",
    "\n",
    "from IPython.display import display, clear_output"
   ]
  },
  {
   "cell_type": "markdown",
   "id": "85cec8ad-72a0-447f-83e7-e08ff498074b",
   "metadata": {
    "tags": []
   },
   "source": [
    "# **Config**"
   ]
  },
  {
   "cell_type": "code",
   "execution_count": 2,
   "id": "4591c7a8-3d81-426e-b1c2-3ff27998a34a",
   "metadata": {
    "tags": []
   },
   "outputs": [],
   "source": [
    "# !!! Run first data_generation.ipynb to generate these files from the main data csv stored in drive !!! \n",
    "train_path = './data/train_per_hour.csv'\n",
    "val_path = './data/val_per_hour.csv'\n",
    "test_path = './data/test_per_hour.csv'"
   ]
  },
  {
   "cell_type": "code",
   "execution_count": 46,
   "id": "55f802bd-af74-48e2-8dd7-7cc0d1d906ec",
   "metadata": {
    "tags": []
   },
   "outputs": [],
   "source": [
    "# Fixed parameters\n",
    "## Missing ratio for masked values\n",
    "missing_ratio = 0.4\n",
    "## Default value to replace the nan before being feeded to NN\n",
    "val_spec = 0\n",
    "## Each sample is a subsequence of length 48 (2days)\n",
    "seq_length = 48\n",
    "## Random seed\n",
    "random_state = 42\n",
    "torch.manual_seed(random_state)\n",
    "torch.set_default_dtype(torch.float64)"
   ]
  },
  {
   "cell_type": "code",
   "execution_count": 4,
   "id": "3a1e4cb1-bc47-4eba-b1de-8341b796b7cb",
   "metadata": {
    "tags": []
   },
   "outputs": [],
   "source": [
    "# Common Hyperparameters for models\n",
    "## Batch and epochs size\n",
    "batch_size = 32\n",
    "epochs = 50\n",
    "## Dropout probability\n",
    "dropout=0.5\n",
    "## Learning rate\n",
    "learning_rate = 0.001"
   ]
  },
  {
   "cell_type": "code",
   "execution_count": 5,
   "id": "54a535b4-355e-4150-aa92-a880ece0174f",
   "metadata": {
    "tags": []
   },
   "outputs": [],
   "source": [
    "# List of statistical methods covered\n",
    "class_methods = ['mean','median','mode','LOCF','NOCB','linear_interpolation','spline_interpolation','knn','mice']"
   ]
  },
  {
   "cell_type": "markdown",
   "id": "c0d537b6-fef0-4d57-a215-85595eef20a5",
   "metadata": {
    "tags": []
   },
   "source": [
    "# **Data preprocessing**"
   ]
  },
  {
   "cell_type": "code",
   "execution_count": 6,
   "id": "c56b3eb4-2339-48f2-839d-a58a989fc717",
   "metadata": {
    "tags": []
   },
   "outputs": [],
   "source": [
    "def preprocess_data(train_path:str,val_path:str,test_path:str,scaler:callable)->Tuple[pd.DataFrame,pd.DataFrame,pd.DataFrame]:\n",
    "    \"\"\"\n",
    "    Preprocess Data\n",
    "    :param train_path: Path to train data\n",
    "    :param val_path: Path to validation data\n",
    "    :param test_path: Path to test data\n",
    "    :param scaler: Scaler to use\n",
    "    :return: Preprocessed train, validation and test data\n",
    "    \"\"\"\n",
    "    # Read Data\n",
    "    train = pd.read_csv(train_path)\n",
    "    val = pd.read_csv(val_path)\n",
    "    test = pd.read_csv(test_path)\n",
    "    # Drop Date Column\n",
    "    if 'Date' in train.columns:\n",
    "        train.drop(['Date'],axis=1,inplace=True)\n",
    "        val.drop(['Date'],axis=1,inplace=True)\n",
    "        test.drop(['Date'],axis=1,inplace=True)    \n",
    "    # Scale Data\n",
    "    train = pd.DataFrame(scaler.fit_transform(train),columns=train.columns)\n",
    "    val = pd.DataFrame(scaler.transform(val),columns=val.columns)\n",
    "    test = pd.DataFrame(scaler.transform(test),columns=test.columns)\n",
    "    return train,val, test"
   ]
  },
  {
   "cell_type": "code",
   "execution_count": 7,
   "id": "02431299-5cca-4e42-982d-759c7be8221f",
   "metadata": {
    "tags": []
   },
   "outputs": [],
   "source": [
    "def generate_MCAR_nans(df:pd.DataFrame, missing_ratio:int,random_state:int)->Tuple[pd.DataFrame,np.ndarray]:\n",
    "    \"\"\"\n",
    "    Generate Missing values in MCAR way\n",
    "    :param df: Dataframe to be masked\n",
    "    :param missing_ratio: Missing ratio per each feature\n",
    "    :param random_state: Random state\n",
    "    :return: Dataframe with missing values and mask\n",
    "    \"\"\"\n",
    "    np.random.seed(random_state)\n",
    "    df_nan = df.mask(np.random.random(df.shape) < missing_ratio,inplace=False)\n",
    "    mask = np.isnan(df_nan.values).astype(int)\n",
    "    return df_nan, mask"
   ]
  },
  {
   "cell_type": "code",
   "execution_count": 8,
   "id": "ad713793-972a-4ca6-b781-41f59ab7d281",
   "metadata": {
    "tags": []
   },
   "outputs": [],
   "source": [
    "train,val, test = preprocess_data(train_path,val_path,test_path,MinMaxScaler()) "
   ]
  },
  {
   "cell_type": "code",
   "execution_count": 9,
   "id": "17cc4818-ff2a-43fa-bf98-4584754657e8",
   "metadata": {
    "tags": []
   },
   "outputs": [],
   "source": [
    "test_nan, test_mask =generate_MCAR_nans(test,missing_ratio,random_state)"
   ]
  },
  {
   "cell_type": "code",
   "execution_count": 91,
   "id": "2b8fbb00-781f-4b31-bb95-4f5356d82837",
   "metadata": {
    "tags": []
   },
   "outputs": [
    {
     "data": {
      "image/png": "[encoded data removed]",
      "text/plain": [
       "<Figure size 1200x300 with 1 Axes>"
      ]
     },
     "metadata": {},
     "output_type": "display_data"
    }
   ],
   "source": [
    "plt.plot(test_nan.Global_intensity)\n",
    "plt.show()"
   ]
  },
  {
   "cell_type": "markdown",
   "id": "6b79654f-a8fe-47be-a631-436a9924de16",
   "metadata": {
    "tags": []
   },
   "source": [
    "# **Performance Evaluation Utils**"
   ]
  },
  {
   "cell_type": "code",
   "execution_count": 11,
   "id": "db29ffb7-fb05-44e8-87a7-b16e3deb7cc4",
   "metadata": {
    "tags": []
   },
   "outputs": [],
   "source": [
    "def evaluate_imputation_mse(df: pd.DataFrame, df_imputed: pd.DataFrame, mask: np.ndarray,method_title: str)->pd.DataFrame:\n",
    "    \"\"\"\n",
    "    Evaluate the imputation performance by calculating the mean squared error (MSE) between the imputed and the original data.\n",
    "    :param df: original data\n",
    "    :param df_imputed: imputed data\n",
    "    :param mask: mask of the missing values\n",
    "    :param method_title: title of the imputation method\n",
    "    :return: pd.DataFrame with the MSE\n",
    "    \"\"\"\n",
    "    mse_per_column =  np.sum((df*mask - df_imputed*mask)**2)/np.sum(mask, axis=0)\n",
    "    print('--------------------')\n",
    "    print('For ', method_title, ' the mse per column is: ')\n",
    "    print(mse_per_column)\n",
    "    print('mse_mean ', mse_per_column.mean())\n",
    "    result = pd.DataFrame({'method':method_title,'mse':mse_per_column.mean(),'var':mse_per_column.var()},index = [0])\n",
    "    return result"
   ]
  },
  {
   "cell_type": "code",
   "execution_count": 12,
   "id": "a5b090a3-c9a9-4fea-8f3d-14dfba75ca31",
   "metadata": {
    "tags": []
   },
   "outputs": [],
   "source": [
    "def t_test(df: pd.DataFrame,df_imputed: pd.DataFrame, mask: np.ndarray, method_title: str)->pd.DataFrame:\n",
    "    \"\"\"\n",
    "    T-test for the imputed data and the original data\n",
    "    :param df: original data\n",
    "    :param df_imputed: imputed data\n",
    "    :param mask: mask for the original data\n",
    "    :param method_title: title of the imputation method\n",
    "    :return: a dataframe with the p-value of the t-test for each column\n",
    "    \"\"\"\n",
    "    df_imputed = df_imputed * mask + df *(1 - mask)\n",
    "    ttest = stats.ttest_ind(df.values, df_imputed.values)\n",
    "    test_stat = pd.DataFrame(columns=['method','column','p-value','same_distribution']) \n",
    "    for n in range(len(ttest.pvalue)): \n",
    "        test_stat.loc[n] = [method_title,df.columns[n], ttest.pvalue[n],ttest.pvalue[n]<0.05 ]                   \n",
    "    return test_stat"
   ]
  },
  {
   "cell_type": "code",
   "execution_count": 13,
   "id": "b42db3bb-4d82-45f6-a0a9-92f426d5fce7",
   "metadata": {
    "tags": []
   },
   "outputs": [],
   "source": [
    "def evaluate_set(list_methods: list,test: pd.DataFrame,test_nan: pd.DataFrame,test_mask: np.ndarray)->Tuple[pd.DataFrame,pd.DataFrame]:\n",
    "    \"\"\"\n",
    "    Evaluate the imputation methods on the test set\n",
    "    :param list_methods: list of imputation methods\n",
    "    :param test: test set\n",
    "    :param test_nan: test set with missing values\n",
    "    :param test_mask: mask of missing values\n",
    "    :return: a tuple of two dataframes, the first one contains the mse of each imputation method, the second one contains the t-test results\n",
    "    \"\"\"\n",
    "    evals = pd.DataFrame()\n",
    "    tests = pd.DataFrame()\n",
    "    for strat in list_methods:\n",
    "        df_imputed = classical_imputer(test_nan,strat)\n",
    "        evals = pd.concat([evals,evaluate_imputation_mse(test,df_imputed,test_mask, strat)])\n",
    "        tests = pd.concat([tests,t_test(test,df_imputed,test_mask,strat)])\n",
    "    evals.sort_values(by=[\"mse\"], inplace = True)\n",
    "    evals.reset_index(drop=True, inplace=True)\n",
    "    return evals,tests"
   ]
  },
  {
   "cell_type": "markdown",
   "id": "07638c81-885e-4d3f-a998-6a4d9a760c61",
   "metadata": {
    "tags": []
   },
   "source": [
    "# **Classical Imputation Methods**"
   ]
  },
  {
   "cell_type": "code",
   "execution_count": 14,
   "id": "a46e6614-9a18-404f-8941-07979e8b9179",
   "metadata": {
    "tags": []
   },
   "outputs": [],
   "source": [
    "def classical_imputer(test: pd.DataFrame,strategy: \n",
    "    Literal['mean','median','mode','LOCF','NOCB','linear_interpolation','spline_interpolation','knn','mice'],\n",
    "    spline_order = 3,\n",
    "    random_state = random_state,\n",
    "    n_neighbors = 5)->pd.DataFrame:\n",
    "    \"\"\"\n",
    "    Impute missing values using classical imputation methods\n",
    "    :param test: Dataframe to impute\n",
    "    :param strategy: Imputation strategy\n",
    "    :param spline_order: Order of spline interpolation\n",
    "    :param random_state: Random state for mice imputation\n",
    "    :param n_neighbors: Number of neighbors for knn imputation\n",
    "    :return: Imputed dataframe\n",
    "    \"\"\"\n",
    "    try:\n",
    "        df = test.copy()\n",
    "        df_imputed = None\n",
    "        if strategy == 'mean':\n",
    "            mean_imp = SimpleImputer(strategy='mean')\n",
    "            df_imputed = pd.DataFrame(mean_imp.fit_transform(df),columns=df.columns)\n",
    "        elif strategy == 'median':\n",
    "            median_imp = SimpleImputer(strategy='median')\n",
    "            df_imputed = pd.DataFrame(median_imp.fit_transform(df),columns=df.columns)\n",
    "        elif strategy == 'mode':\n",
    "            most_frequent_imp = SimpleImputer(strategy='most_frequent')\n",
    "            df_imputed =  pd.DataFrame(most_frequent_imp.fit_transform(df), columns=df.columns)\n",
    "        elif strategy == 'LOCF':\n",
    "            df_imputed = df.fillna(method='ffill').fillna(method='bfill')\n",
    "        elif strategy == 'NOCB':\n",
    "            df_imputed = df.fillna(method='bfill').fillna(method='ffill')\n",
    "        elif strategy == 'linear_interpolation':\n",
    "            df_imputed = df.interpolate(method='linear',limit_direction='both')\n",
    "        elif strategy == 'spline_interpolation':\n",
    "            df_imputed = df.interpolate(method='spline',order=spline_order,limit_direction='both')\n",
    "        elif strategy == 'knn':\n",
    "            knn_imp = KNNImputer(n_neighbors=n_neighbors)\n",
    "            df_imputed = pd.DataFrame(knn_imp.fit_transform(df),columns=df.columns)\n",
    "        elif strategy == 'mice':\n",
    "            mice_imp = IterativeImputer(random_state=random_state)\n",
    "            df_imputed = pd.DataFrame(mice_imp.fit_transform(df),columns=df.columns)\n",
    "        else:\n",
    "            raise ValueError(\"Error : The strategy '{}' is not supported\".format(strategy))\n",
    "        return df_imputed\n",
    "    except ValueError as e:\n",
    "        raise(e)"
   ]
  },
  {
   "cell_type": "markdown",
   "id": "cfeb75fd-849e-4733-b2c6-aba09c68c996",
   "metadata": {
    "tags": []
   },
   "source": [
    "# **DataSet and DataLoaders for DL models**"
   ]
  },
  {
   "cell_type": "code",
   "execution_count": 15,
   "id": "7140020f-0f1c-4de1-8800-329243558e92",
   "metadata": {
    "tags": []
   },
   "outputs": [],
   "source": [
    "def random_mask_tensor(tensor:torch.Tensor, missing_ratio:float, seed:int, val_spec=val_spec)->Tuple[torch.Tensor,torch.Tensor]:\n",
    "    \"\"\"\n",
    "    Randomly masks a tensor with a given missing ratio.\n",
    "    :param tensor: the tensor to be masked\n",
    "    :param missing_ratio: The ratio of values to be masked\n",
    "    :return: the masked tensor and the mask tensor\n",
    "    \"\"\"\n",
    "    # Calculate the number of values to mask\n",
    "    torch.manual_seed(seed)\n",
    "    torch.backends.cudnn.deterministic = True\n",
    "    num_masked_values = int(tensor.numel() * missing_ratio)\n",
    "    # Create a mask tensor with the same shape as the input tensor\n",
    "    mask = torch.ones_like(tensor)\n",
    "    # Randomly select values to be masked and set their corresponding mask tensor values to 0\n",
    "    mask_indices = torch.randperm(tensor.numel())[:num_masked_values]\n",
    "    mask = mask.flatten()\n",
    "    mask[mask_indices] = 0\n",
    "    mask = mask.reshape(tensor.shape)\n",
    "    mask = 1 - mask \n",
    "    mask = mask.bool() \n",
    "    # Mask the input tensor\n",
    "    masked_tensor = tensor.masked_fill(mask, val_spec)\n",
    "    # Return the masked tensor and the mask tensor\n",
    "    return masked_tensor, mask"
   ]
  },
  {
   "cell_type": "code",
   "execution_count": 16,
   "id": "be571c91-1de2-4235-b5e9-b898a9830cf1",
   "metadata": {
    "tags": []
   },
   "outputs": [],
   "source": [
    "class TSImputationTrainDataset(Dataset):\n",
    "    \"\"\"Time series imputation dataset for training\"\"\"\n",
    "    def __init__(self, df, seq_length,missing_ratio):\n",
    "        self.data = torch.tensor(df.values,dtype=torch.float64)\n",
    "        self.seq_length = seq_length\n",
    "        self.missing_ratio = missing_ratio \n",
    "            \n",
    "    def __len__(self):\n",
    "        return len(self.data) - self.seq_length + 1\n",
    "\n",
    "    def __getitem__(self, index):\n",
    "        assert(len(self.data)>=self.seq_length)\n",
    "        # Get a sequence of data of length seq_length\n",
    "        target = self.data[index:index+self.seq_length]\n",
    "        # generate masked input and the mask\n",
    "        masked_input, mask = random_mask_tensor(target,self.missing_ratio,index)\n",
    "        return target, masked_input, mask"
   ]
  },
  {
   "cell_type": "code",
   "execution_count": 17,
   "id": "27b821ee-1d56-4eb3-bb4b-0eafc41dff97",
   "metadata": {
    "tags": []
   },
   "outputs": [],
   "source": [
    "class TSImputationEvalDataset(Dataset):\n",
    "    \"\"\"Time series imputation dataset for testing\"\"\"\n",
    "    def __init__(self, df, df_nan, mask, seq_length):\n",
    "        self.seq_length = seq_length\n",
    "        self.data = torch.tensor(df.values,dtype=torch.float64)\n",
    "        self.data_nan = torch.tensor(df_nan.values,dtype=torch.float64)\n",
    "        self.mask = torch.tensor(mask,dtype=torch.bool)\n",
    "        \n",
    "    def __len__(self):\n",
    "        if len(self.data) >= self.seq_length:\n",
    "            return len(self.data) - self.seq_length + 1\n",
    "        return 1\n",
    "    \n",
    "    def __getitem__(self, index):\n",
    "        # Get a sequence of data of length seq_length or less\n",
    "        start = index\n",
    "        end = index + self.seq_length\n",
    "        target = self.data[start:end]\n",
    "        masked_input = self.data_nan[start:end]\n",
    "        mask = self.mask[start:end]\n",
    "        # add padding if needed\n",
    "        if end > len(self.data):\n",
    "            padding = torch.zeros(self.seq_length - len(target), self.data.shape[1])\n",
    "            target = torch.cat([target, padding], dim=0)\n",
    "            masked_input = torch.cat([masked_input,padding], dim=0)\n",
    "            mask = torch.cat([mask,padding.bool()], dim=0)\n",
    "        masked_input[torch.isnan(masked_input)] = 0\n",
    "        return target, masked_input, mask"
   ]
  },
  {
   "cell_type": "code",
   "execution_count": 18,
   "id": "40db34e3-3aa8-47e7-bf19-d84de92f361f",
   "metadata": {
    "tags": []
   },
   "outputs": [],
   "source": [
    "train_dataset = TSImputationTrainDataset(train,seq_length,missing_ratio)\n",
    "val_dataset = TSImputationTrainDataset(val,seq_length,missing_ratio)\n",
    "test_dataset = TSImputationEvalDataset(test,test_nan,test_mask,seq_length)"
   ]
  },
  {
   "cell_type": "code",
   "execution_count": 19,
   "id": "a2deb689-0af4-4687-89c2-1a5a9c93d4ce",
   "metadata": {
    "tags": []
   },
   "outputs": [],
   "source": [
    "train_loader = DataLoader(train_dataset, batch_size=batch_size, shuffle=True)\n",
    "val_loader = DataLoader(val_dataset, batch_size=batch_size, shuffle=False)\n",
    "test_loader = DataLoader(test_dataset, batch_size=1, shuffle=False)"
   ]
  },
  {
   "cell_type": "code",
   "execution_count": 20,
   "id": "d53c65cd-34a0-4c49-af6e-3fbbc7623f37",
   "metadata": {
    "tags": []
   },
   "outputs": [
    {
     "name": "stdout",
     "output_type": "stream",
     "text": [
      "total training batch number: 225\n",
      "total validation batch number: 56\n",
      "total test batch number: 3853\n"
     ]
    }
   ],
   "source": [
    "print('total training batch number: {}'.format(len(train_loader)))\n",
    "print('total validation batch number: {}'.format(len(val_loader)))\n",
    "print('total test batch number: {}'.format(len(test_loader)))"
   ]
  },
  {
   "cell_type": "markdown",
   "id": "30db3d28-a72a-4051-a730-79890830b382",
   "metadata": {
    "tags": []
   },
   "source": [
    "# **DL models**"
   ]
  },
  {
   "cell_type": "markdown",
   "id": "25d6017b-ed6d-481f-ae34-548e3c0c1990",
   "metadata": {
    "tags": []
   },
   "source": [
    "## **Utils**"
   ]
  },
  {
   "cell_type": "code",
   "execution_count": 21,
   "id": "348fefd6-5a29-482c-bcf7-99b348c012e2",
   "metadata": {
    "tags": []
   },
   "outputs": [],
   "source": [
    "class ORT_MIT_Loss(nn.Module):\n",
    "    \"\"\" Masked Imputation Task (MIT)\n",
    "        Observed Reconstruction Task (ORT) \n",
    "    \"\"\"\n",
    "    def __init__(self,delta = 0.5):\n",
    "        super().__init__()\n",
    "        self.delta = delta\n",
    "\n",
    "    def forward(self,y_pred: torch.Tensor, y_true: torch.Tensor, mask: torch.BoolTensor) -> torch.Tensor:\n",
    "        MIT = torch.sum(torch.square(y_pred - y_true) * mask) / (torch.sum(mask))\n",
    "        ORT = torch.sum(torch.square(y_pred - y_true) * ~mask) / (torch.sum(~mask))\n",
    "        return ORT + self.delta*MIT"
   ]
  },
  {
   "cell_type": "code",
   "execution_count": 22,
   "id": "89e2713e-5b3f-4ac2-af8c-299e80fb1051",
   "metadata": {
    "tags": []
   },
   "outputs": [],
   "source": [
    "class MaskedMSELoss(nn.Module):\n",
    "    \"\"\" Masked MSE Loss\n",
    "    \"\"\"\n",
    "    def __init__(self, reduction: str = 'mean'):\n",
    "        super().__init__()\n",
    "        self.reduction = reduction\n",
    "        self.mse_loss = nn.MSELoss(reduction=self.reduction)\n",
    "\n",
    "    def forward(self,\n",
    "                y_pred: torch.Tensor, y_true: torch.Tensor, mask: torch.BoolTensor) -> torch.Tensor:\n",
    "        \"\"\"Compute the loss between a target value and a prediction.\n",
    "        Args:\n",
    "            y_pred: Estimated values\n",
    "            y_true: Target values\n",
    "            mask: boolean tensor with 0s at places where values should be ignored and 1s where they should be considered\n",
    "        Returns\n",
    "        -------\n",
    "        if reduction == 'none':\n",
    "            (num_active,) Loss for each active batch element as a tensor with gradient attached.\n",
    "        if reduction == 'mean':\n",
    "            scalar mean loss over batch as a tensor with gradient attached.\n",
    "        \"\"\"\n",
    "\n",
    "        # for this particular loss, one may also elementwise multiply y_pred and y_true with the inverted mask\n",
    "        masked_pred = torch.masked_select(y_pred, mask)\n",
    "        masked_true = torch.masked_select(y_true, mask)\n",
    "\n",
    "        return self.mse_loss(masked_pred, masked_true)"
   ]
  },
  {
   "cell_type": "code",
   "execution_count": 23,
   "id": "17d0831c-636c-479f-a7e8-a8f1bcf554b0",
   "metadata": {
    "tags": []
   },
   "outputs": [],
   "source": [
    "class NoamOpt:\n",
    "    \"Optim wrapper that implements rate.\"\n",
    "    def __init__(self, model_size, factor, warmup, optimizer):\n",
    "        self.optimizer = optimizer\n",
    "        self._step = 0\n",
    "        self.warmup = warmup\n",
    "        self.factor = factor\n",
    "        self.model_size = model_size\n",
    "        self._rate = 0\n",
    "        \n",
    "    def step(self):\n",
    "        \"Update parameters and rate\"\n",
    "        self._step += 1\n",
    "        rate = self.rate()\n",
    "        for p in self.optimizer.param_groups:\n",
    "            p['lr'] = rate\n",
    "        self._rate = rate\n",
    "        self.optimizer.step()\n",
    "        \n",
    "    def rate(self, step = None):\n",
    "        \"Implement `lrate` above\"\n",
    "        if step is None:\n",
    "            step = self._step\n",
    "        return self.factor * \\\n",
    "            (self.model_size ** (-0.5) *\n",
    "            min(step ** (-0.5), step * self.warmup ** (-1.5)))"
   ]
  },
  {
   "cell_type": "code",
   "execution_count": 24,
   "id": "95a9a3e1-ae87-46d3-8354-5a07396769e0",
   "metadata": {
    "tags": []
   },
   "outputs": [],
   "source": [
    "class HuberLossWithMask(nn.Module):\n",
    "    def __init__(self, delta=1.0):\n",
    "        super(HuberLossWithMask, self).__init__()\n",
    "        self.delta = delta\n",
    "\n",
    "    def forward(self, y_true, y_pred, mask):\n",
    "        error = y_true - y_pred\n",
    "        abs_error = torch.abs(error)\n",
    "        quadratic = torch.clamp(abs_error, max=self.delta)\n",
    "        linear = abs_error - quadratic\n",
    "        loss = 0.5 * quadratic ** 2 + self.delta * linear\n",
    "        masked_loss = loss * mask.float()\n",
    "        return masked_loss.mean()"
   ]
  },
  {
   "cell_type": "code",
   "execution_count": 25,
   "id": "21329f23-f6b5-4bd9-89c1-baa26eada957",
   "metadata": {
    "tags": []
   },
   "outputs": [],
   "source": [
    "def clones(module, N):\n",
    "    \"Produce N identical layers.\"\n",
    "    return nn.ModuleList([copy.deepcopy(module) for _ in range(N)]) "
   ]
  },
  {
   "cell_type": "code",
   "execution_count": 26,
   "id": "1b442213-2122-4ca8-bc10-bd23f0861fa5",
   "metadata": {
    "tags": []
   },
   "outputs": [],
   "source": [
    "def count_parameters(model):\n",
    "    nb_params = sum(p.numel() for p in model.parameters() if p.requires_grad)\n",
    "    print('This model has ',nb_params , ' parameter')\n",
    "    return nb_params"
   ]
  },
  {
   "cell_type": "code",
   "execution_count": 27,
   "id": "f7887234-40eb-4489-a7a0-4ef12578485b",
   "metadata": {
    "tags": []
   },
   "outputs": [],
   "source": [
    "def load_model(model,model_path):\n",
    "    model.load_state_dict(torch.load(model_path)['model_state_dict'])\n",
    "    model.eval()\n",
    "    return model"
   ]
  },
  {
   "cell_type": "code",
   "execution_count": 28,
   "id": "8dcd5290-7472-4bb3-a0d6-ed4b88ff72a7",
   "metadata": {
    "tags": []
   },
   "outputs": [],
   "source": [
    "def padding_tensor(tensor, len_test, number_features, index, is_flatten):\n",
    "    if is_flatten:\n",
    "        padding_left = torch.zeros(tensor.shape[0],index*number_features)\n",
    "        padding_right = torch.zeros(tensor.shape[0], len_test*number_features-tensor.shape[1]-index*number_features)\n",
    "    else:\n",
    "        padding_left = torch.zeros(tensor.shape[0],index, number_features)\n",
    "        padding_right = torch.zeros(tensor.shape[0],len_test-tensor.shape[1]-index, number_features)\n",
    "    if torch.cuda.is_available():\n",
    "            padding_left, padding_right = padding_left.cuda(), padding_right.cuda()\n",
    "    result = torch.cat([padding_left,tensor,padding_right], dim=1)\n",
    "    return result"
   ]
  },
  {
   "cell_type": "code",
   "execution_count": 29,
   "id": "6188da12-0ceb-47e9-acfc-c243fe1971f6",
   "metadata": {
    "tags": []
   },
   "outputs": [],
   "source": [
    "def predict(model, test, sequence_length, test_loader, is_flatten = False, is_TS = False ):\n",
    "    # Init\n",
    "    test_predicted = []\n",
    "    test_or = []\n",
    "    i = 0\n",
    "    len_test, number_features = test.shape\n",
    "    # Prediction loop over loader\n",
    "    for target, masked_input, mask in test_loader:\n",
    "        if torch.cuda.is_available():\n",
    "            target, masked_input, mask = target.cuda(), masked_input.cuda(), mask.cuda()\n",
    "        if is_flatten:\n",
    "            target = target.view(target.shape[0],target.shape[2]*target.shape[1])\n",
    "            masked_input = masked_input.view(masked_input.shape[0],masked_input.shape[2]*masked_input.shape[1])\n",
    "        if is_TS:\n",
    "            output = model(masked_input,None)\n",
    "        else:\n",
    "            output = model(masked_input)\n",
    "        ## Padding\n",
    "        test_predicted.append(padding_tensor(output, len_test, number_features, i, is_flatten))\n",
    "        test_or.append(padding_tensor(target, len_test, number_features, i, is_flatten))  \n",
    "        i+=1    \n",
    "    \n",
    "    # Weighted sum of predictions and target\n",
    "    test_predicted_final = torch.zeros_like(test_predicted[0])\n",
    "    for tensor in test_predicted:\n",
    "        test_predicted_final = torch.add(test_predicted_final, tensor)\n",
    "\n",
    "    test_or_final = torch.zeros_like(test_or[0])\n",
    "    for tensor in test_or:\n",
    "        test_or_final = torch.add(test_or_final, tensor)\n",
    "        \n",
    "    test_predicted_temp = torch.zeros_like(test_predicted_final)\n",
    "    test_or_temp = torch.zeros_like(test_or_final)\n",
    "    \n",
    "    for i in range(len_test):\n",
    "        if is_flatten:\n",
    "            candidat = test_predicted_final[0][i*number_features:(i+1)*number_features]\n",
    "            candidat_target = test_or_final[0][i*number_features:(i+1)*number_features]\n",
    "        else:\n",
    "            candidat = test_predicted_final[0][i]\n",
    "            candidat_target = test_or_final[0][i]\n",
    "        if i<sequence_length:\n",
    "            change = candidat/(i+1)\n",
    "            change_target = candidat_target/(i+1)\n",
    "        elif i>(len_test%sequence_length)*sequence_length:\n",
    "            change = candidat/(len_test-i)\n",
    "            change_target = candidat_target/(len_test-i)\n",
    "        else:\n",
    "            change = candidat/sequence_length\n",
    "            change_target = candidat_target/sequence_length\n",
    "        if is_flatten:\n",
    "            test_predicted_temp[0][i*number_features:(i+1)*number_features] = change\n",
    "            test_or_temp[0][i*number_features:(i+1)*number_features] = change_target\n",
    "        else:\n",
    "            test_predicted_temp[0][i] = change\n",
    "            test_or_temp[0][i] = change_target\n",
    "            \n",
    "    test_predicted_final = test_predicted_temp\n",
    "    test_or_final = test_or_temp\n",
    "\n",
    "    # Reshape\n",
    "    if is_flatten:\n",
    "        test_predicted_final=test_predicted_final.view(test.shape[0],test.shape[1])\n",
    "        test_or_final=test_or_final.view(test.shape[0],test.shape[1])\n",
    "    else:\n",
    "        test_predicted_final = torch.reshape(test_predicted_final,(test_predicted_final.shape[0]*test_predicted_final.shape[1],test_predicted_final.shape[2]))\n",
    "        test_or_final = torch.reshape(test_or_final,(test_or_final.shape[0]*test_or_final.shape[1],test_or_final.shape[2]))\n",
    "        \n",
    "    # Final dataframes\n",
    "    test_predicted_final=pd.DataFrame(test_predicted_final[:len(test)].cpu().detach().numpy(),columns=test.columns)\n",
    "    test_or_final=pd.DataFrame(test_or_final[:len(test)].cpu().detach().numpy(),columns=test.columns)\n",
    "    return test_predicted_final, test_or_final"
   ]
  },
  {
   "cell_type": "code",
   "execution_count": 30,
   "id": "e883a235-463b-4e77-978b-d6a315aee4f2",
   "metadata": {
    "tags": []
   },
   "outputs": [],
   "source": [
    "loss_fn = ORT_MIT_Loss(8)"
   ]
  },
  {
   "cell_type": "markdown",
   "id": "25861337-1b1a-456c-87b9-7b913e6caf56",
   "metadata": {
    "tags": []
   },
   "source": [
    "## **MLP AutoEncoder**"
   ]
  },
  {
   "cell_type": "code",
   "execution_count": 31,
   "id": "30f4cc31-751e-49ca-9ccd-4947541f7d04",
   "metadata": {
    "tags": []
   },
   "outputs": [],
   "source": [
    "class FullyConnectedAutoencoder(nn.Module):\n",
    "    def __init__(self, input_dim, hidden_dim_1, hidden_dim_2, output_dim):\n",
    "        super().__init__()\n",
    "        # Encoder: affine function\n",
    "        self.fc1 = nn.Linear(input_dim, hidden_dim_1)\n",
    "        self.fc2 = nn.Linear(hidden_dim_1, hidden_dim_2)\n",
    "        # Decoder: affine function\n",
    "        self.fc3 = nn.Linear(hidden_dim_2, hidden_dim_1)\n",
    "        self.fc4 = nn.Linear(hidden_dim_1, output_dim)\n",
    "        \n",
    "\n",
    "    def forward(self, x):\n",
    "        # Encoder\n",
    "        out = self.fc1(x)\n",
    "        out = F.relu(out)\n",
    "        out = self.fc2(out)\n",
    "        out = F.relu(out)\n",
    "\n",
    "        # Decoder\n",
    "        out = self.fc3(out)\n",
    "        out = F.relu(out)\n",
    "        out = self.fc4(out)\n",
    "        out = torch.sigmoid(out)\n",
    "\n",
    "        return out"
   ]
  },
  {
   "cell_type": "markdown",
   "id": "a7ec91f2-2a12-4ee4-9708-9db1a725cf31",
   "metadata": {
    "tags": []
   },
   "source": [
    "### **Train the AutoEncoder**"
   ]
  },
  {
   "cell_type": "code",
   "execution_count": 41,
   "id": "d277779f-9340-4a78-9559-73f773685a48",
   "metadata": {
    "tags": []
   },
   "outputs": [],
   "source": [
    "# Parameters\n",
    "## subsequence dimension 7*48\n",
    "input_dim = train.shape[1] * seq_length\n",
    "## output dimension\n",
    "output_dim = input_dim"
   ]
  },
  {
   "cell_type": "code",
   "execution_count": 42,
   "id": "0bd0ac3f-3bb0-4c64-8a35-44ea6939e576",
   "metadata": {
    "tags": []
   },
   "outputs": [],
   "source": [
    "# Hyperparameters\n",
    "## This is the parameter finetune for this model\n",
    "reduction_parameter = 0.8\n",
    "hidden_dim_1 = int(input_dim * reduction_parameter)\n",
    "hidden_dim_2 = int(hidden_dim_1 * reduction_parameter)"
   ]
  },
  {
   "cell_type": "code",
   "execution_count": 43,
   "id": "2f0d5ed8-2a57-4e6b-99dd-71bb4a11f01f",
   "metadata": {
    "tags": []
   },
   "outputs": [],
   "source": [
    "# Init model and loss function\n",
    "model_ae = FullyConnectedAutoencoder(input_dim, hidden_dim_1, hidden_dim_2, output_dim)\n",
    "if torch.cuda.is_available():\n",
    "    model_ae = model_ae.cuda()"
   ]
  },
  {
   "cell_type": "code",
   "execution_count": 44,
   "id": "bff84701-2cde-4199-a3b7-8d74d9944358",
   "metadata": {
    "tags": []
   },
   "outputs": [],
   "source": [
    "def train_model_AE(model,loss_fn,epochs,train_loader,val_loader, learning_rate=0.001, gamma=0.9):\n",
    "    \"\"\"\n",
    "    Train the autoencoder\n",
    "    :param model:model of class FullyConnectedAutoencoder\n",
    "    :param loss_fn: loss function\n",
    "    :param eopchs: number of epochs\n",
    "    :param train_loader: train loader\n",
    "    :param val_loader: validation loader\n",
    "    :param learning_rate: learning rate\n",
    "    :param gamma: multiplicative factor of learning rate decay\n",
    "    \"\"\"\n",
    "    #optimizer = torch.optim.Adam(model.parameters(),lr = learning_rate)  \n",
    "    #scheduler = ExponentialLR(optimizer, gamma=gamma)\n",
    "    model_opt = NoamOpt(input_dim,2, 100,\n",
    "    torch.optim.Adam(model.parameters(), lr=0, betas=(0.9, 0.98), eps=1e-9))\n",
    "    \n",
    "    train_loss_list = []\n",
    "    val_loss_list = []\n",
    "    lr_values=[]\n",
    "    # train phase\n",
    "    for epoch in range(epochs):\n",
    "        # training phase\n",
    "        train_loss = 0\n",
    "        model.train()\n",
    "        for i, (target, masked_input, mask) in enumerate(train_loader):\n",
    "            target = target.view(target.shape[0],target.shape[2]*target.shape[1])\n",
    "            masked_input = masked_input.view(masked_input.shape[0],masked_input.shape[2]*masked_input.shape[1])\n",
    "            mask = mask.view(mask.shape[0],mask.shape[2]*mask.shape[1])\n",
    "            if torch.cuda.is_available():\n",
    "                target, masked_input, mask = target.cuda(), masked_input.cuda(), mask.cuda()\n",
    "            model_opt.optimizer.zero_grad()\n",
    "            outputs = model(masked_input)\n",
    "            loss = loss_fn(outputs, target,mask)\n",
    "            loss.backward()\n",
    "            model_opt.step()\n",
    "            lr_values.append(model_opt.optimizer.param_groups[0]['lr'])\n",
    "            train_loss += loss.item()\n",
    "        #scheduler.step()\n",
    "   \n",
    "        \n",
    "        # validation phase  \n",
    "        valid_loss = 0.0\n",
    "        model.eval() \n",
    "        for batch in val_loader:\n",
    "            x, x_nan, mask = batch\n",
    "            x = x.view(x.shape[0],x.shape[2]*x.shape[1])\n",
    "            x_nan = x_nan.view(x_nan.shape[0],x_nan.shape[2]*x_nan.shape[1])\n",
    "            mask = mask.view(mask.shape[0],mask.shape[2]*mask.shape[1])\n",
    "            if torch.cuda.is_available():\n",
    "                x, x_nan, mask = x.cuda(), x_nan.cuda(), mask.cuda()\n",
    "            outputs = model(x_nan)\n",
    "            loss = loss_fn(outputs, x,mask)\n",
    "            valid_loss += loss.item()\n",
    "        train_loss_list.append(train_loss / len(train_loader))\n",
    "        val_loss_list.append(valid_loss/len(val_loader))\n",
    "        print('Epoch {}: train loss: {}, val loss: {}'.format(epoch,train_loss / len(train_loader),valid_loss/len(val_loader)))\n",
    "    # Saving State Dict\n",
    "    date_time = datetime.datetime.now()\n",
    "    index = ('_').join(str(date_time).split(' '))\n",
    "    PATH = './trained_models/AE_models/model_final_' + index\n",
    "    torch.save({\n",
    "    'epoch': epochs,\n",
    "    'batch_size': batch_size,\n",
    "    'learning_rate':learning_rate,\n",
    "    'model_state_dict': model.state_dict(),\n",
    "    'train_loss': train_loss_list,\n",
    "    'val_loss':val_loss_list,\n",
    "     'hidden_dim_1':hidden_dim_1,\n",
    "     'hidden_dim_2':hidden_dim_2\n",
    "    }, PATH)\n",
    "    clear_output()\n",
    "    return train_loss_list, val_loss_list,PATH,lr_values"
   ]
  },
  {
   "cell_type": "code",
   "execution_count": 47,
   "id": "bc0ee63b-8a17-4f6e-9fa3-8fad32e455e7",
   "metadata": {
    "tags": []
   },
   "outputs": [
    {
     "name": "stderr",
     "output_type": "stream",
     "text": [
      "\u001b[32m[I 2023-03-29 10:58:35,327]\u001b[0m Trial 49 finished with value: 0.0685149036650059 and parameters: {'learning_rate': 0.054566468558862075, 'reduction_param': 0.4, 'num_train_epochs': 60.0, 'sequence_length': 24.0, 'batch_size': 32, 'loss_parameter': 6, 'dropout': 0.2}. Best is trial 40 with value: 0.01259040014662406.\u001b[0m\n"
     ]
    },
    {
     "name": "stdout",
     "output_type": "stream",
     "text": [
      "Number of finished trials: 50\n",
      "Best trial:\n",
      "  Value: 0.01259\n",
      "  Params: \n",
      "    learning_rate: 0.2607884316102392\n",
      "    reduction_param: 0.5\n",
      "    num_train_epochs: 70.0\n",
      "    sequence_length: 24.0\n",
      "    batch_size: 32\n",
      "    loss_parameter: 0.5\n",
      "    dropout: 0.8\n"
     ]
    }
   ],
   "source": [
    "LR_MIN=1e-6\n",
    "LR_CEIL=1\n",
    "MIN_EPOCHS=20\n",
    "MAX_EPOCHS=70\n",
    "MIN_SEQ_LEN=12\n",
    "MAX_SEQ_LEN=96\n",
    "BATCH_VALUES=[8,16,32,64]\n",
    "LOSS_PARAMS_LIST=[0.5,2,2.5,4,6,8]\n",
    "MIN_DROPOUT=0.1\n",
    "MAX_DROPOUT=0.8\n",
    "NUM_TRIALS=50\n",
    "RP_MIN=0.4\n",
    "RP_MAX=0.8\n",
    "\n",
    "def objective(trial: optuna.Trial):     \n",
    "    learning_rate = trial.suggest_loguniform('learning_rate', low=LR_MIN, high=LR_CEIL)\n",
    "    reduction_param = trial.suggest_discrete_uniform('reduction_param', low=RP_MIN, high=RP_MAX,q=0.1)\n",
    "    num_train_epochs = trial.suggest_discrete_uniform('num_train_epochs', low=MIN_EPOCHS, high=MAX_EPOCHS,q=10)\n",
    "    sequence_length = trial.suggest_discrete_uniform('sequence_length', MIN_SEQ_LEN, MAX_SEQ_LEN,q=12)\n",
    "    batch_size = trial.suggest_categorical('batch_size', BATCH_VALUES)\n",
    "    loss_parameter = trial.suggest_categorical('loss_parameter', LOSS_PARAMS_LIST)\n",
    "    dropout = trial.suggest_discrete_uniform('dropout', MIN_DROPOUT, MAX_DROPOUT,q=0.1)  \n",
    "    \n",
    "    sequence_length=int(sequence_length)\n",
    "    input_dim = train.shape[1] * sequence_length\n",
    "    hidden_dim_1 = int(input_dim * reduction_parameter)\n",
    "    hidden_dim_2 = int(hidden_dim_1 * reduction_parameter)\n",
    "    output_dim = input_dim\n",
    "    batch_size=int(batch_size)\n",
    "    num_train_epochs=int(num_train_epochs)\n",
    "    \n",
    "    print('sequence_length',sequence_length,'batch_size',batch_size,'num_train_epochs',num_train_epochs)\n",
    "    print('input_dim',input_dim,'hidden_dim_1',hidden_dim_1,'hidden_dim_2',hidden_dim_2,'reduction_param',reduction_param)\n",
    "    model_ae = FullyConnectedAutoencoder(input_dim, hidden_dim_1, hidden_dim_2, output_dim)\n",
    "    train_dataset = TSImputationTrainDataset(train,sequence_length,missing_ratio)\n",
    "    val_dataset = TSImputationTrainDataset(val,sequence_length,missing_ratio)\n",
    "    test_dataset = TSImputationEvalDataset(test,test_nan,test_mask,sequence_length)\n",
    "    train_loader = DataLoader(train_dataset, batch_size=batch_size, shuffle=True)\n",
    "    val_loader = DataLoader(val_dataset, batch_size=batch_size, shuffle=False)\n",
    "    test_loader = DataLoader(test_dataset, batch_size=1, shuffle=False)\n",
    "    print('total training batch number: {}'.format(len(train_loader)))\n",
    "    print('total validation batch number: {}'.format(len(val_loader)))\n",
    "    print('total test batch number: {}'.format(len(test_loader)))\n",
    "    if torch.cuda.is_available():\n",
    "        model_ae = model_ae.cuda()\n",
    "    loss_fn = ORT_MIT_Loss(loss_parameter)\n",
    "    \n",
    "    train_loss_list, val_loss_list, model_ae_PATH, lr_values = train_model_AE(model_ae, loss_fn, num_train_epochs, train_loader, val_loader, learning_rate, gamma=0.9)\n",
    "         \n",
    "    return train_loss_list[-1]\n",
    "\n",
    "study = optuna.create_study(study_name='deepl_finetune', direction='minimize') \n",
    "study.optimize(func=objective, n_trials=NUM_TRIALS)  \n",
    "\n",
    "print('Number of finished trials:', len(study.trials))\n",
    "print('Best trial:')\n",
    "trial = study.best_trial\n",
    "print('  Value: {:.5f}'.format(trial.value))\n",
    "print('  Params: ')\n",
    "for key, value in trial.params.items():\n",
    "    print('    {}: {}'.format(key, value))\n"
   ]
  },
  {
   "cell_type": "code",
   "execution_count": 48,
   "id": "90346d6f-e931-46a0-9d8f-e282c83fee50",
   "metadata": {
    "tags": []
   },
   "outputs": [],
   "source": [
    "#train_loss_list, val_loss_list,model_ae_PATH,lr_values = train_model_AE(model_ae,loss_fn,epochs,train_loader,val_loader, gamma=0.9)\n",
    "#df = pd.DataFrame({'epochs':[i for i in range(epochs)],'train_loss': train_loss_list,'val_loss': val_loss_list})\n",
    "#df.plot(x=\"epochs\", y=[\"train_loss\", \"val_loss\"],kind=\"line\")"
   ]
  },
  {
   "cell_type": "markdown",
   "id": "450f11bc-6d42-4f74-a9d7-c911c8ed7593",
   "metadata": {
    "tags": []
   },
   "source": [
    "# **ConvAE**"
   ]
  },
  {
   "cell_type": "code",
   "execution_count": 74,
   "id": "db3509a0-b224-4a20-9420-af59b6fc0991",
   "metadata": {
    "tags": []
   },
   "outputs": [],
   "source": [
    "class ConvAutoencoder(nn.Module):\n",
    "    def __init__(self,T,D,hidden_dim1,hidden_dim2,hidden_dim3,in_channels=1,out_channels_1=16,out_channels_2=8):\n",
    "        super(ConvAutoencoder, self).__init__()\n",
    "        self.T = T\n",
    "        self.D = D\n",
    "        ## Encoder\n",
    "        self.encoder = nn.Sequential(\n",
    "            nn.Conv2d(in_channels=in_channels, out_channels=out_channels_1, kernel_size=(3, 3), stride=(1, 1), padding=(1, 1)),\n",
    "            nn.ReLU(),\n",
    "            nn.Conv2d(in_channels=out_channels_1, out_channels=out_channels_2, kernel_size=(3, 3), stride=(1, 1), padding=(1, 1)),\n",
    "            nn.ReLU(),\n",
    "            nn.Flatten(start_dim=1),\n",
    "            nn.Linear(out_channels_2 * T * D, hidden_dim1),\n",
    "            nn.ReLU(),\n",
    "            nn.Linear(hidden_dim1, hidden_dim2),\n",
    "            nn.ReLU(),\n",
    "            nn.Linear(hidden_dim2, hidden_dim3),\n",
    "            nn.ReLU()\n",
    "        )\n",
    "\n",
    "        ## Decoder\n",
    "        self.decoder = nn.Sequential(\n",
    "            nn.Linear(hidden_dim3, hidden_dim2),\n",
    "            nn.ReLU(),            \n",
    "            nn.Linear(hidden_dim2, hidden_dim1),\n",
    "            nn.ReLU(),\n",
    "            nn.Linear(hidden_dim1, out_channels_2 * T * D),\n",
    "            nn.ReLU(),\n",
    "            nn.Unflatten(dim=1,unflattened_size=(out_channels_2, T, D)),\n",
    "            nn.ConvTranspose2d(in_channels=out_channels_2, out_channels=out_channels_1, kernel_size=(3, 3), stride=(1, 1), padding=(1, 1)),\n",
    "            nn.ReLU(),\n",
    "            nn.ConvTranspose2d(in_channels=out_channels_1, out_channels=in_channels, kernel_size=(3, 3), stride=(1, 1), padding=(1,1)),\n",
    "            nn.Sigmoid()\n",
    "        )\n",
    "    \n",
    "        \n",
    "    def forward(self, x):\n",
    "        x = x.unsqueeze(1)  # add a channel dimension to the input (N, T, D) -> (N, 1, T, D)\n",
    "        x = self.encoder(x)\n",
    "        x = self.decoder(x)\n",
    "        x = x.squeeze(1)  # remove the channel dimension from the output (N, 1, T, D) -> (N, T, D)\n",
    "        return x"
   ]
  },
  {
   "cell_type": "code",
   "execution_count": 75,
   "id": "f60e171b-b763-4f71-8966-89efe703df5e",
   "metadata": {
    "tags": []
   },
   "outputs": [],
   "source": [
    "# Parameters\n",
    "d_input = train.shape[1]\n",
    "input_dim = train.shape[1] * seq_length"
   ]
  },
  {
   "cell_type": "code",
   "execution_count": 76,
   "id": "bb4b9eb9-991e-4e8b-9541-9e554ae9425f",
   "metadata": {
    "tags": []
   },
   "outputs": [],
   "source": [
    "# Hyperparameters\n",
    "reduction_parameter = 0.6\n",
    "hidden_dim1 = int(input_dim * reduction_parameter)\n",
    "hidden_dim2 = int(hidden_dim_1 * reduction_parameter)\n",
    "hidden_dim3 = int(hidden_dim_2 * reduction_parameter)"
   ]
  },
  {
   "cell_type": "code",
   "execution_count": 77,
   "id": "b28ee5cd-b464-4c36-8d41-e7e565bed9ac",
   "metadata": {
    "tags": []
   },
   "outputs": [],
   "source": [
    "#init model\n",
    "model_conv_ae = ConvAutoencoder(seq_length,d_input,hidden_dim1, hidden_dim2,hidden_dim3)\n",
    "if torch.cuda.is_available():\n",
    "    model_conv_ae = model_conv_ae.cuda()\n"
   ]
  },
  {
   "cell_type": "code",
   "execution_count": 78,
   "id": "5faf2fde-dc57-469d-b215-bbec752d516f",
   "metadata": {
    "tags": []
   },
   "outputs": [],
   "source": [
    "def train_model_Conv_AE(model,loss_fn,epochs,train_loader,val_loader, learning_rate=learning_rate, gamma=0.9):\n",
    "    optimizer = torch.optim.Adam(model.parameters(),lr = learning_rate)  \n",
    "    scheduler = ExponentialLR(optimizer, gamma=gamma)\n",
    "    train_loss_list = []\n",
    "    val_loss_list = []\n",
    "   \n",
    "    for epoch in range(epochs):\n",
    "        # train phase\n",
    "        train_loss = 0\n",
    "        model.train()\n",
    "        for i, (target, masked_input, mask) in enumerate(train_loader):\n",
    "            if torch.cuda.is_available():\n",
    "                target, masked_input, mask = target.cuda(), masked_input.cuda(), mask.cuda()\n",
    "            optimizer.zero_grad()\n",
    "            outputs = model(masked_input)\n",
    "            loss = loss_fn(outputs, target,mask)\n",
    "            loss.backward()\n",
    "            optimizer.step()\n",
    "            train_loss += loss.item()\n",
    "        scheduler.step()\n",
    "        \n",
    "        # validation phase\n",
    "        valid_loss = 0.0\n",
    "        model.eval() \n",
    "        with torch.no_grad():\n",
    "            for batch in val_loader:\n",
    "                x, x_nan, mask = batch\n",
    "                if torch.cuda.is_available():\n",
    "                    x, x_nan, mask = x.cuda(), x_nan.cuda(), mask.cuda()\n",
    "                outputs = model(x_nan)\n",
    "                loss = loss_fn(outputs, x,mask)\n",
    "                valid_loss += loss.item()\n",
    "        train_loss_list.append(train_loss / len(train_loader))\n",
    "        val_loss_list.append(valid_loss/len(val_loader))\n",
    "        print('Epoch {}: train loss: {}, val loss: {}'.format(epoch,train_loss / len(train_loader),valid_loss/len(val_loader)))\n",
    "    # Saving State Dict\n",
    "    date_time = datetime.datetime.now()\n",
    "    index = ('_').join(str(date_time).split(' '))\n",
    "    PATH = './trained_models/CONV_AE_models/model_final_' + index\n",
    "    torch.save({\n",
    "    'epoch': epochs,\n",
    "    'batch_size': batch_size,\n",
    "    'learning_rate':learning_rate,\n",
    "    'hidden_dim_1':hidden_dim_1,\n",
    "    'hidden_dim_2':hidden_dim_2,\n",
    "    'missing_ratio': missing_ratio,\n",
    "    'model_state_dict': model.state_dict(),\n",
    "    'train_loss': train_loss_list,\n",
    "    'val_loss':val_loss_list\n",
    "    }, PATH)\n",
    "    clear_output()\n",
    "    return train_loss_list, val_loss_list,PATH"
   ]
  },
  {
   "cell_type": "code",
   "execution_count": 93,
   "id": "47bb7391-0b97-4317-8290-fbc47c49588d",
   "metadata": {
    "tags": []
   },
   "outputs": [
    {
     "name": "stderr",
     "output_type": "stream",
     "text": [
      "\u001b[32m[I 2023-03-29 19:51:32,329]\u001b[0m Trial 29 finished with value: 0.1505022551043244 and parameters: {'learning_rate': 0.07432844663472203, 'reduction_parameter': 0.4, 'num_train_epochs': 40.0, 'sequence_length': 48.0, 'batch_size': 8, 'loss_parameter': 0.5, 'dropout': 0.30000000000000004}. Best is trial 26 with value: 0.01870313631853408.\u001b[0m\n"
     ]
    },
    {
     "name": "stdout",
     "output_type": "stream",
     "text": [
      "Number of finished trials: 30\n",
      "Best trial:\n",
      "  Value: 0.01870\n",
      "  Params: \n",
      "    learning_rate: 0.0027873150004194868\n",
      "    reduction_parameter: 0.6000000000000001\n",
      "    num_train_epochs: 50.0\n",
      "    sequence_length: 36.0\n",
      "    batch_size: 16\n",
      "    loss_parameter: 0.5\n",
      "    dropout: 0.2\n"
     ]
    }
   ],
   "source": [
    "NUM_TRIALS=30\n",
    "def objective(trial: optuna.Trial):     \n",
    "    learning_rate = trial.suggest_loguniform('learning_rate', low=LR_MIN, high=LR_CEIL)\n",
    "    reduction_parameter = trial.suggest_discrete_uniform('reduction_parameter', low=RP_MIN, high=RP_MAX,q=0.1)\n",
    "    num_train_epochs = trial.suggest_discrete_uniform('num_train_epochs', low=MIN_EPOCHS, high=MAX_EPOCHS,q=10)\n",
    "    sequence_length = trial.suggest_discrete_uniform('sequence_length', MIN_SEQ_LEN, MAX_SEQ_LEN,q=12)\n",
    "    batch_size = trial.suggest_categorical('batch_size', BATCH_VALUES)\n",
    "    loss_parameter = trial.suggest_categorical('loss_parameter', LOSS_PARAMS_LIST)\n",
    "    dropout = trial.suggest_discrete_uniform('dropout', MIN_DROPOUT, MAX_DROPOUT,q=0.1)  \n",
    "    \n",
    "    sequence_length=int(sequence_length)\n",
    "    d_input = train.shape[1]\n",
    "    input_dim = train.shape[1] * sequence_length\n",
    "    \n",
    "    hidden_dim1 = int(input_dim * reduction_parameter)\n",
    "    hidden_dim2 = int(hidden_dim1 * reduction_parameter)\n",
    "    hidden_dim3 = int(hidden_dim2 * reduction_parameter)\n",
    "    \n",
    "    batch_size=int(batch_size)\n",
    "    num_train_epochs=int(num_train_epochs)\n",
    "    \n",
    "    print('sequence_length',sequence_length,'batch_size',batch_size,'num_train_epochs',num_train_epochs)\n",
    "    print('input_dim',input_dim,'hidden_dim_1',hidden_dim1,'hidden_dim_2',hidden_dim2,'hidden_dim3',hidden_dim3,'reduction_parameter',reduction_parameter)\n",
    "    \n",
    "    model_conv_ae = ConvAutoencoder(sequence_length,d_input,hidden_dim1, hidden_dim2,hidden_dim3)\n",
    "    if torch.cuda.is_available():\n",
    "        model_conv_ae = model_conv_ae.cuda()    \n",
    "    train_dataset = TSImputationTrainDataset(train,sequence_length,missing_ratio)\n",
    "    val_dataset = TSImputationTrainDataset(val,sequence_length,missing_ratio)\n",
    "    test_dataset = TSImputationEvalDataset(test,test_nan,test_mask,sequence_length)\n",
    "    train_loader = DataLoader(train_dataset, batch_size=batch_size, shuffle=True)\n",
    "    val_loader = DataLoader(val_dataset, batch_size=batch_size, shuffle=False)\n",
    "    test_loader = DataLoader(test_dataset, batch_size=1, shuffle=False)\n",
    "    print('total training batch number: {}'.format(len(train_loader)))\n",
    "    print('total validation batch number: {}'.format(len(val_loader)))\n",
    "    print('total test batch number: {}'.format(len(test_loader)))\n",
    "\n",
    "    loss_fn = ORT_MIT_Loss(loss_parameter)\n",
    "    \n",
    "    train_loss_list, val_loss_list,model_conv_ae_path = train_model_Conv_AE(model_conv_ae,loss_fn,num_train_epochs,train_loader,val_loader,learning_rate)\n",
    "         \n",
    "    return train_loss_list[-1]\n",
    "\n",
    "study = optuna.create_study(study_name='deepl_finetune', direction='minimize') \n",
    "study.optimize(func=objective, n_trials=NUM_TRIALS)  \n",
    "\n",
    "print('Number of finished trials:', len(study.trials))\n",
    "print('Best trial:')\n",
    "trial = study.best_trial\n",
    "print('  Value: {:.5f}'.format(trial.value))\n",
    "print('  Params: ')\n",
    "for key, value in trial.params.items():\n",
    "    print('    {}: {}'.format(key, value))\n",
    "\n"
   ]
  },
  {
   "cell_type": "code",
   "execution_count": null,
   "id": "65cc37d7",
   "metadata": {},
   "outputs": [],
   "source": [
    "sequence_length=24\n",
    "reduction_parameter=0.5\n",
    "input_dim = train.shape[1] * sequence_length\n",
    "hidden_dim_1 = int(input_dim * reduction_parameter)\n",
    "hidden_dim_2 = int(hidden_dim_1 * reduction_parameter)\n",
    "output_dim = input_dim\n",
    "dropout=0.8\n",
    "batch_size= 32\n",
    "num_train_epochs=70\n",
    "learning_rate=0.2607884316102392\n",
    "\n",
    "model_ae = FullyConnectedAutoencoder(input_dim, hidden_dim_1, hidden_dim_2, output_dim)\n",
    "train_dataset = TSImputationTrainDataset(train,sequence_length,missing_ratio)\n",
    "val_dataset = TSImputationTrainDataset(val,sequence_length,missing_ratio)\n",
    "test_dataset = TSImputationEvalDataset(test,test_nan,test_mask,sequence_length)\n",
    "train_loader = DataLoader(train_dataset, batch_size=batch_size, shuffle=True)\n",
    "val_loader = DataLoader(val_dataset, batch_size=batch_size, shuffle=False)\n",
    "test_loader = DataLoader(test_dataset, batch_size=1, shuffle=False)\n",
    "print('total training batch number: {}'.format(len(train_loader)))\n",
    "print('total validation batch number: {}'.format(len(val_loader)))\n",
    "print('total test batch number: {}'.format(len(test_loader)))\n",
    "if torch.cuda.is_available():\n",
    "    model_ae = model_ae.cuda()\n",
    "loss_fn = ORT_MIT_Loss(0.5)\n",
    "\n",
    "train_loss_list, val_loss_list, model_ae_PATH, lr_values = train_model_AE(model_ae, loss_fn, num_train_epochs, train_loader, val_loader, learning_rate, gamma=0.9)"
   ]
  },
  {
   "cell_type": "code",
   "execution_count": 45,
   "id": "91046af3-a62d-44c6-9a0f-a9c80bf71f0b",
   "metadata": {
    "tags": []
   },
   "outputs": [
    {
     "name": "stdout",
     "output_type": "stream",
     "text": [
      "This model has  1192027  parameter\n"
     ]
    },
    {
     "data": {
      "text/plain": [
       "1192027"
      ]
     },
     "execution_count": 45,
     "metadata": {},
     "output_type": "execute_result"
    }
   ],
   "source": [
    "count_parameters(model_conv_ae)"
   ]
  },
  {
   "cell_type": "code",
   "execution_count": 79,
   "id": "0b646d04-4e89-46ad-b925-67b917e4b3e8",
   "metadata": {
    "tags": []
   },
   "outputs": [
    {
     "name": "stdout",
     "output_type": "stream",
     "text": [
      "Epoch 0: train loss: 0.3691413130106749, val loss: 0.38543742796970654\n",
      "Epoch 1: train loss: 0.30006516492366664, val loss: 0.37357339566882175\n",
      "Epoch 2: train loss: 0.2898830441597988, val loss: 0.360979310899289\n"
     ]
    },
    {
     "ename": "KeyboardInterrupt",
     "evalue": "",
     "output_type": "error",
     "traceback": [
      "\u001b[0;31m---------------------------------------------------------------------------\u001b[0m",
      "\u001b[0;31mKeyboardInterrupt\u001b[0m                         Traceback (most recent call last)",
      "Cell \u001b[0;32mIn[79], line 2\u001b[0m\n\u001b[1;32m      1\u001b[0m \u001b[38;5;66;03m#  sequence_length = 4\u001b[39;00m\n\u001b[0;32m----> 2\u001b[0m train_loss_list, val_loss_list,model_conv_ae_path \u001b[38;5;241m=\u001b[39m \u001b[43mtrain_model_Conv_AE\u001b[49m\u001b[43m(\u001b[49m\u001b[43mmodel_conv_ae\u001b[49m\u001b[43m,\u001b[49m\u001b[43mloss_fn\u001b[49m\u001b[43m,\u001b[49m\u001b[43mepochs\u001b[49m\u001b[43m,\u001b[49m\u001b[43mtrain_loader\u001b[49m\u001b[43m,\u001b[49m\u001b[43mval_loader\u001b[49m\u001b[43m)\u001b[49m\n\u001b[1;32m      3\u001b[0m df \u001b[38;5;241m=\u001b[39m pd\u001b[38;5;241m.\u001b[39mDataFrame({\u001b[38;5;124m'\u001b[39m\u001b[38;5;124mepochs\u001b[39m\u001b[38;5;124m'\u001b[39m:[i \u001b[38;5;28;01mfor\u001b[39;00m i \u001b[38;5;129;01min\u001b[39;00m \u001b[38;5;28mrange\u001b[39m(epochs)],\u001b[38;5;124m'\u001b[39m\u001b[38;5;124mtrain_loss\u001b[39m\u001b[38;5;124m'\u001b[39m: train_loss_list,\u001b[38;5;124m'\u001b[39m\u001b[38;5;124mval_loss\u001b[39m\u001b[38;5;124m'\u001b[39m: val_loss_list})\n\u001b[1;32m      4\u001b[0m df\u001b[38;5;241m.\u001b[39mplot(x\u001b[38;5;241m=\u001b[39m\u001b[38;5;124m\"\u001b[39m\u001b[38;5;124mepochs\u001b[39m\u001b[38;5;124m\"\u001b[39m, y\u001b[38;5;241m=\u001b[39m[\u001b[38;5;124m\"\u001b[39m\u001b[38;5;124mtrain_loss\u001b[39m\u001b[38;5;124m\"\u001b[39m, \u001b[38;5;124m\"\u001b[39m\u001b[38;5;124mval_loss\u001b[39m\u001b[38;5;124m\"\u001b[39m],kind\u001b[38;5;241m=\u001b[39m\u001b[38;5;124m\"\u001b[39m\u001b[38;5;124mline\u001b[39m\u001b[38;5;124m\"\u001b[39m)\n",
      "Cell \u001b[0;32mIn[78], line 15\u001b[0m, in \u001b[0;36mtrain_model_Conv_AE\u001b[0;34m(model, loss_fn, epochs, train_loader, val_loader, learning_rate, gamma)\u001b[0m\n\u001b[1;32m     13\u001b[0m     target, masked_input, mask \u001b[38;5;241m=\u001b[39m target\u001b[38;5;241m.\u001b[39mcuda(), masked_input\u001b[38;5;241m.\u001b[39mcuda(), mask\u001b[38;5;241m.\u001b[39mcuda()\n\u001b[1;32m     14\u001b[0m optimizer\u001b[38;5;241m.\u001b[39mzero_grad()\n\u001b[0;32m---> 15\u001b[0m outputs \u001b[38;5;241m=\u001b[39m \u001b[43mmodel\u001b[49m\u001b[43m(\u001b[49m\u001b[43mmasked_input\u001b[49m\u001b[43m)\u001b[49m\n\u001b[1;32m     16\u001b[0m loss \u001b[38;5;241m=\u001b[39m loss_fn(outputs, target,mask)\n\u001b[1;32m     17\u001b[0m loss\u001b[38;5;241m.\u001b[39mbackward()\n",
      "File \u001b[0;32m~/.local/lib/python3.8/site-packages/torch/nn/modules/module.py:1501\u001b[0m, in \u001b[0;36mModule._call_impl\u001b[0;34m(self, *args, **kwargs)\u001b[0m\n\u001b[1;32m   1496\u001b[0m \u001b[38;5;66;03m# If we don't have any hooks, we want to skip the rest of the logic in\u001b[39;00m\n\u001b[1;32m   1497\u001b[0m \u001b[38;5;66;03m# this function, and just call forward.\u001b[39;00m\n\u001b[1;32m   1498\u001b[0m \u001b[38;5;28;01mif\u001b[39;00m \u001b[38;5;129;01mnot\u001b[39;00m (\u001b[38;5;28mself\u001b[39m\u001b[38;5;241m.\u001b[39m_backward_hooks \u001b[38;5;129;01mor\u001b[39;00m \u001b[38;5;28mself\u001b[39m\u001b[38;5;241m.\u001b[39m_backward_pre_hooks \u001b[38;5;129;01mor\u001b[39;00m \u001b[38;5;28mself\u001b[39m\u001b[38;5;241m.\u001b[39m_forward_hooks \u001b[38;5;129;01mor\u001b[39;00m \u001b[38;5;28mself\u001b[39m\u001b[38;5;241m.\u001b[39m_forward_pre_hooks\n\u001b[1;32m   1499\u001b[0m         \u001b[38;5;129;01mor\u001b[39;00m _global_backward_pre_hooks \u001b[38;5;129;01mor\u001b[39;00m _global_backward_hooks\n\u001b[1;32m   1500\u001b[0m         \u001b[38;5;129;01mor\u001b[39;00m _global_forward_hooks \u001b[38;5;129;01mor\u001b[39;00m _global_forward_pre_hooks):\n\u001b[0;32m-> 1501\u001b[0m     \u001b[38;5;28;01mreturn\u001b[39;00m \u001b[43mforward_call\u001b[49m\u001b[43m(\u001b[49m\u001b[38;5;241;43m*\u001b[39;49m\u001b[43margs\u001b[49m\u001b[43m,\u001b[49m\u001b[43m \u001b[49m\u001b[38;5;241;43m*\u001b[39;49m\u001b[38;5;241;43m*\u001b[39;49m\u001b[43mkwargs\u001b[49m\u001b[43m)\u001b[49m\n\u001b[1;32m   1502\u001b[0m \u001b[38;5;66;03m# Do not call functions when jit is used\u001b[39;00m\n\u001b[1;32m   1503\u001b[0m full_backward_hooks, non_full_backward_hooks \u001b[38;5;241m=\u001b[39m [], []\n",
      "Cell \u001b[0;32mIn[74], line 40\u001b[0m, in \u001b[0;36mConvAutoencoder.forward\u001b[0;34m(self, x)\u001b[0m\n\u001b[1;32m     38\u001b[0m x \u001b[38;5;241m=\u001b[39m x\u001b[38;5;241m.\u001b[39munsqueeze(\u001b[38;5;241m1\u001b[39m)  \u001b[38;5;66;03m# add a channel dimension to the input (N, T, D) -> (N, 1, T, D)\u001b[39;00m\n\u001b[1;32m     39\u001b[0m x \u001b[38;5;241m=\u001b[39m \u001b[38;5;28mself\u001b[39m\u001b[38;5;241m.\u001b[39mencoder(x)\n\u001b[0;32m---> 40\u001b[0m x \u001b[38;5;241m=\u001b[39m \u001b[38;5;28;43mself\u001b[39;49m\u001b[38;5;241;43m.\u001b[39;49m\u001b[43mdecoder\u001b[49m\u001b[43m(\u001b[49m\u001b[43mx\u001b[49m\u001b[43m)\u001b[49m\n\u001b[1;32m     41\u001b[0m x \u001b[38;5;241m=\u001b[39m x\u001b[38;5;241m.\u001b[39msqueeze(\u001b[38;5;241m1\u001b[39m)  \u001b[38;5;66;03m# remove the channel dimension from the output (N, 1, T, D) -> (N, T, D)\u001b[39;00m\n\u001b[1;32m     42\u001b[0m \u001b[38;5;28;01mreturn\u001b[39;00m x\n",
      "File \u001b[0;32m~/.local/lib/python3.8/site-packages/torch/nn/modules/module.py:1501\u001b[0m, in \u001b[0;36mModule._call_impl\u001b[0;34m(self, *args, **kwargs)\u001b[0m\n\u001b[1;32m   1496\u001b[0m \u001b[38;5;66;03m# If we don't have any hooks, we want to skip the rest of the logic in\u001b[39;00m\n\u001b[1;32m   1497\u001b[0m \u001b[38;5;66;03m# this function, and just call forward.\u001b[39;00m\n\u001b[1;32m   1498\u001b[0m \u001b[38;5;28;01mif\u001b[39;00m \u001b[38;5;129;01mnot\u001b[39;00m (\u001b[38;5;28mself\u001b[39m\u001b[38;5;241m.\u001b[39m_backward_hooks \u001b[38;5;129;01mor\u001b[39;00m \u001b[38;5;28mself\u001b[39m\u001b[38;5;241m.\u001b[39m_backward_pre_hooks \u001b[38;5;129;01mor\u001b[39;00m \u001b[38;5;28mself\u001b[39m\u001b[38;5;241m.\u001b[39m_forward_hooks \u001b[38;5;129;01mor\u001b[39;00m \u001b[38;5;28mself\u001b[39m\u001b[38;5;241m.\u001b[39m_forward_pre_hooks\n\u001b[1;32m   1499\u001b[0m         \u001b[38;5;129;01mor\u001b[39;00m _global_backward_pre_hooks \u001b[38;5;129;01mor\u001b[39;00m _global_backward_hooks\n\u001b[1;32m   1500\u001b[0m         \u001b[38;5;129;01mor\u001b[39;00m _global_forward_hooks \u001b[38;5;129;01mor\u001b[39;00m _global_forward_pre_hooks):\n\u001b[0;32m-> 1501\u001b[0m     \u001b[38;5;28;01mreturn\u001b[39;00m \u001b[43mforward_call\u001b[49m\u001b[43m(\u001b[49m\u001b[38;5;241;43m*\u001b[39;49m\u001b[43margs\u001b[49m\u001b[43m,\u001b[49m\u001b[43m \u001b[49m\u001b[38;5;241;43m*\u001b[39;49m\u001b[38;5;241;43m*\u001b[39;49m\u001b[43mkwargs\u001b[49m\u001b[43m)\u001b[49m\n\u001b[1;32m   1502\u001b[0m \u001b[38;5;66;03m# Do not call functions when jit is used\u001b[39;00m\n\u001b[1;32m   1503\u001b[0m full_backward_hooks, non_full_backward_hooks \u001b[38;5;241m=\u001b[39m [], []\n",
      "File \u001b[0;32m~/.local/lib/python3.8/site-packages/torch/nn/modules/container.py:217\u001b[0m, in \u001b[0;36mSequential.forward\u001b[0;34m(self, input)\u001b[0m\n\u001b[1;32m    215\u001b[0m \u001b[38;5;28;01mdef\u001b[39;00m \u001b[38;5;21mforward\u001b[39m(\u001b[38;5;28mself\u001b[39m, \u001b[38;5;28minput\u001b[39m):\n\u001b[1;32m    216\u001b[0m     \u001b[38;5;28;01mfor\u001b[39;00m module \u001b[38;5;129;01min\u001b[39;00m \u001b[38;5;28mself\u001b[39m:\n\u001b[0;32m--> 217\u001b[0m         \u001b[38;5;28minput\u001b[39m \u001b[38;5;241m=\u001b[39m \u001b[43mmodule\u001b[49m\u001b[43m(\u001b[49m\u001b[38;5;28;43minput\u001b[39;49m\u001b[43m)\u001b[49m\n\u001b[1;32m    218\u001b[0m     \u001b[38;5;28;01mreturn\u001b[39;00m \u001b[38;5;28minput\u001b[39m\n",
      "File \u001b[0;32m~/.local/lib/python3.8/site-packages/torch/nn/modules/module.py:1501\u001b[0m, in \u001b[0;36mModule._call_impl\u001b[0;34m(self, *args, **kwargs)\u001b[0m\n\u001b[1;32m   1496\u001b[0m \u001b[38;5;66;03m# If we don't have any hooks, we want to skip the rest of the logic in\u001b[39;00m\n\u001b[1;32m   1497\u001b[0m \u001b[38;5;66;03m# this function, and just call forward.\u001b[39;00m\n\u001b[1;32m   1498\u001b[0m \u001b[38;5;28;01mif\u001b[39;00m \u001b[38;5;129;01mnot\u001b[39;00m (\u001b[38;5;28mself\u001b[39m\u001b[38;5;241m.\u001b[39m_backward_hooks \u001b[38;5;129;01mor\u001b[39;00m \u001b[38;5;28mself\u001b[39m\u001b[38;5;241m.\u001b[39m_backward_pre_hooks \u001b[38;5;129;01mor\u001b[39;00m \u001b[38;5;28mself\u001b[39m\u001b[38;5;241m.\u001b[39m_forward_hooks \u001b[38;5;129;01mor\u001b[39;00m \u001b[38;5;28mself\u001b[39m\u001b[38;5;241m.\u001b[39m_forward_pre_hooks\n\u001b[1;32m   1499\u001b[0m         \u001b[38;5;129;01mor\u001b[39;00m _global_backward_pre_hooks \u001b[38;5;129;01mor\u001b[39;00m _global_backward_hooks\n\u001b[1;32m   1500\u001b[0m         \u001b[38;5;129;01mor\u001b[39;00m _global_forward_hooks \u001b[38;5;129;01mor\u001b[39;00m _global_forward_pre_hooks):\n\u001b[0;32m-> 1501\u001b[0m     \u001b[38;5;28;01mreturn\u001b[39;00m \u001b[43mforward_call\u001b[49m\u001b[43m(\u001b[49m\u001b[38;5;241;43m*\u001b[39;49m\u001b[43margs\u001b[49m\u001b[43m,\u001b[49m\u001b[43m \u001b[49m\u001b[38;5;241;43m*\u001b[39;49m\u001b[38;5;241;43m*\u001b[39;49m\u001b[43mkwargs\u001b[49m\u001b[43m)\u001b[49m\n\u001b[1;32m   1502\u001b[0m \u001b[38;5;66;03m# Do not call functions when jit is used\u001b[39;00m\n\u001b[1;32m   1503\u001b[0m full_backward_hooks, non_full_backward_hooks \u001b[38;5;241m=\u001b[39m [], []\n",
      "File \u001b[0;32m~/.local/lib/python3.8/site-packages/torch/nn/modules/linear.py:114\u001b[0m, in \u001b[0;36mLinear.forward\u001b[0;34m(self, input)\u001b[0m\n\u001b[1;32m    113\u001b[0m \u001b[38;5;28;01mdef\u001b[39;00m \u001b[38;5;21mforward\u001b[39m(\u001b[38;5;28mself\u001b[39m, \u001b[38;5;28minput\u001b[39m: Tensor) \u001b[38;5;241m-\u001b[39m\u001b[38;5;241m>\u001b[39m Tensor:\n\u001b[0;32m--> 114\u001b[0m     \u001b[38;5;28;01mreturn\u001b[39;00m \u001b[43mF\u001b[49m\u001b[38;5;241;43m.\u001b[39;49m\u001b[43mlinear\u001b[49m\u001b[43m(\u001b[49m\u001b[38;5;28;43minput\u001b[39;49m\u001b[43m,\u001b[49m\u001b[43m \u001b[49m\u001b[38;5;28;43mself\u001b[39;49m\u001b[38;5;241;43m.\u001b[39;49m\u001b[43mweight\u001b[49m\u001b[43m,\u001b[49m\u001b[43m \u001b[49m\u001b[38;5;28;43mself\u001b[39;49m\u001b[38;5;241;43m.\u001b[39;49m\u001b[43mbias\u001b[49m\u001b[43m)\u001b[49m\n",
      "\u001b[0;31mKeyboardInterrupt\u001b[0m: "
     ]
    }
   ],
   "source": [
    "#  sequence_length = 4\n",
    "train_loss_list, val_loss_list,model_conv_ae_path = train_model_Conv_AE(model_conv_ae,loss_fn,epochs,train_loader,val_loader)\n",
    "df = pd.DataFrame({'epochs':[i for i in range(epochs)],'train_loss': train_loss_list,'val_loss': val_loss_list})\n",
    "df.plot(x=\"epochs\", y=[\"train_loss\", \"val_loss\"],kind=\"line\")"
   ]
  },
  {
   "cell_type": "markdown",
   "id": "c59717cd-d8f4-4a45-83f3-3c05d00cc48c",
   "metadata": {
    "tags": []
   },
   "source": [
    "# **LSTM AE**"
   ]
  },
  {
   "cell_type": "code",
   "execution_count": 94,
   "id": "b3a1ca2c-1ef6-4783-906f-875e8379c273",
   "metadata": {
    "tags": []
   },
   "outputs": [],
   "source": [
    "class Encoder_LSTM(nn.Module):\n",
    "    def __init__(self, seq_len, no_features, embedding_size):\n",
    "        super().__init__()\n",
    "        self.seq_len = seq_len\n",
    "        self.no_features = no_features \n",
    "        self.embedding_size = embedding_size\n",
    "        self.hidden_size = (2 * embedding_size)\n",
    "        self.LSTM1 = nn.LSTM(\n",
    "            input_size = no_features,\n",
    "            hidden_size = embedding_size,\n",
    "            num_layers = 1,\n",
    "            batch_first=True\n",
    "        )\n",
    "        \n",
    "    def forward(self, x):\n",
    "        x, (hidden_state, cell_state) = self.LSTM1(x)  \n",
    "        last_lstm_layer_hidden_state = hidden_state[-1,:,:]\n",
    "        return last_lstm_layer_hidden_state\n",
    "    \n",
    "    \n",
    "class Decoder_LSTM(nn.Module):\n",
    "    def __init__(self, seq_len, no_features, output_size):\n",
    "        super().__init__()\n",
    "\n",
    "        self.seq_len = seq_len\n",
    "        self.no_features = no_features\n",
    "        self.hidden_size = (2 * no_features)\n",
    "        self.output_size = output_size\n",
    "        self.LSTM1 = nn.LSTM(\n",
    "            input_size = no_features,\n",
    "            hidden_size = self.hidden_size,\n",
    "            num_layers = 1,\n",
    "            batch_first = True\n",
    "        )\n",
    "\n",
    "        self.fc = nn.Linear(self.hidden_size, output_size)\n",
    "        \n",
    "    def forward(self, x):\n",
    "        x = x.unsqueeze(1).repeat(1, self.seq_len, 1)\n",
    "        x, (hidden_state, cell_state) = self.LSTM1(x)\n",
    "        x = x.reshape((-1, self.seq_len, self.hidden_size))\n",
    "        out = self.fc(x)\n",
    "        return out\n",
    "    \n",
    "class LSTM_AE(nn.Module):\n",
    "    def __init__(self, seq_len, no_features, embedding_dim):\n",
    "        super().__init__()\n",
    "        \n",
    "        self.seq_len = seq_len\n",
    "        self.no_features = no_features\n",
    "        self.embedding_dim = embedding_dim\n",
    "        self.encoder = Encoder_LSTM(self.seq_len, self.no_features, self.embedding_dim)\n",
    "        self.decoder = Decoder_LSTM(self.seq_len, self.embedding_dim, self.no_features)\n",
    "         # Set requires_grad=True for LSTM parameters\n",
    "        self.encoder.LSTM1.weight_ih_l0.requires_grad = True\n",
    "        self.encoder.LSTM1.weight_hh_l0.requires_grad = True\n",
    "        self.decoder.LSTM1.weight_ih_l0.requires_grad = True\n",
    "        self.decoder.LSTM1.weight_hh_l0.requires_grad = True\n",
    "    def forward(self, x):\n",
    "        torch.manual_seed(0)\n",
    "        encoded = self.encoder(x)\n",
    "        decoded = self.decoder(encoded)\n",
    "        decoded = torch.sigmoid(decoded)\n",
    "        return decoded\n",
    "    \n",
    "    def encode(self, x):\n",
    "        self.eval()\n",
    "        encoded = self.encoder(x)\n",
    "        return encoded\n",
    "    \n",
    "    def decode(self, x):\n",
    "        self.eval()\n",
    "        decoded = self.decoder(x)\n",
    "        squeezed_decoded = decoded.squeeze()\n",
    "        return squeezed_decoded"
   ]
  },
  {
   "cell_type": "markdown",
   "id": "6e26d74c-37f0-41d7-b643-3d4b8653cb65",
   "metadata": {},
   "source": [
    "### **Train the LSTM AE**"
   ]
  },
  {
   "cell_type": "code",
   "execution_count": 95,
   "id": "b0b9a608-2790-4fdf-9523-ed83c558abd7",
   "metadata": {
    "tags": []
   },
   "outputs": [],
   "source": [
    "# Parameters\n",
    "d_input = train.shape[1]"
   ]
  },
  {
   "cell_type": "code",
   "execution_count": 96,
   "id": "b97f6ea8-30c6-4ba3-ac1f-727292888bf6",
   "metadata": {
    "tags": []
   },
   "outputs": [],
   "source": [
    "#Hyperparameters\n",
    "reduction_parameter = 0.7\n",
    "embedding_size = int(d_input * reduction_parameter)"
   ]
  },
  {
   "cell_type": "code",
   "execution_count": 97,
   "id": "6c67945d-0c8f-45ec-bcec-56395733b7c0",
   "metadata": {
    "tags": []
   },
   "outputs": [],
   "source": [
    "#init model and loss\n",
    "model_ae_lstm = LSTM_AE(seq_length,d_input,embedding_size)\n",
    "if torch.cuda.is_available():\n",
    "    model_ae_lstm = model_ae_lstm.cuda()\n"
   ]
  },
  {
   "cell_type": "code",
   "execution_count": 98,
   "id": "4b70a7cb-d48c-42a9-bae9-ab8cf829c461",
   "metadata": {
    "tags": []
   },
   "outputs": [],
   "source": [
    "def train_model_AE_LSTM(model,loss_fn,epochs,train_loader,val_loader, learning_rate=learning_rate, gamma=0.5):\n",
    "\n",
    "    \n",
    "    #optimizer = torch.optim.RAdam(model.parameters(),lr = learning_rate)  \n",
    "    #scheduler = ExponentialLR(optimizer, gamma=gamma)\n",
    "    model_opt = NoamOpt(model.no_features, 2, 100,\n",
    "    torch.optim.Adam(model.parameters(), lr=0, betas=(0.9, 0.98), eps=1e-9))\n",
    "\n",
    "    train_loss_list = []\n",
    "    val_loss_list = []\n",
    "    lr_values=[]\n",
    "    max_weights=[]\n",
    "    gradient_list=[]\n",
    "    for param in model.parameters():\n",
    "        param.requires_grad = True\n",
    "\n",
    "    for epoch in range(epochs):\n",
    "        # train phase\n",
    "        train_loss = 0\n",
    "        model.train()\n",
    "        for i, (target, masked_input, mask) in enumerate(train_loader):\n",
    "            if torch.cuda.is_available():\n",
    "                target, masked_input, mask = target.cuda(), masked_input.cuda(), mask.cuda()\n",
    "            outputs = model(masked_input)\n",
    "            loss = loss_fn(outputs, target,mask)\n",
    "            loss.backward()\n",
    "            model_opt.step()\n",
    "            model_opt.optimizer.zero_grad()\n",
    "            # Store the learning rate value\n",
    "            lr_values.append(model_opt.optimizer.param_groups[0]['lr'])\n",
    "            train_loss += loss.item()\n",
    "            gradient_list.append(loss.item())\n",
    "            #torch.nn.utils.clip_grad_norm(parameters=model.parameters(), max_norm=38, norm_type=2.0)\n",
    "            \n",
    "            ''''max_weight = None\n",
    "            for name, param in model.named_parameters():\n",
    "                if 'weight' in name:\n",
    "                    weight_max = torch.max(torch.abs(param)).item()\n",
    "                    if max_weight is None or weight_max > max_weight:\n",
    "                        max_weight = weight_max\n",
    "            max_weights.append(max_weight)'''\n",
    "\n",
    "\n",
    "        \n",
    "        \n",
    "        # validation phase\n",
    "        valid_loss = 0.0\n",
    "        model.eval() \n",
    "        with torch.no_grad():\n",
    "            for batch in val_loader:\n",
    "                x, x_nan, mask = batch\n",
    "                if torch.cuda.is_available():\n",
    "                    x, x_nan, mask = x.cuda(), x_nan.cuda(), mask.cuda()\n",
    "                outputs = model(x_nan)\n",
    "                loss = loss_fn(outputs, x,mask)\n",
    "                valid_loss += loss.item()\n",
    "        train_loss_list.append(train_loss / len(train_loader))\n",
    "        val_loss_list.append(valid_loss/len(val_loader))\n",
    "        print('Epoch {}: train loss: {}, val loss: {}'.format(epoch,train_loss / len(train_loader),valid_loss/len(val_loader)))\n",
    "    # Saving State Dict\n",
    "    date_time = datetime.datetime.now()\n",
    "    index = ('_').join(str(date_time).split(' '))\n",
    "    PATH = './trained_models/LSTM_AE_models/model_final_' + index\n",
    "    torch.save({\n",
    "    'epoch': epochs,\n",
    "    'batch_size': batch_size,\n",
    "    'learning_rate':learning_rate,\n",
    "    'embedding_size':embedding_size,\n",
    "    'missing_ratio': missing_ratio,\n",
    "    'model_state_dict': model.state_dict(),\n",
    "    'train_loss': train_loss_list,\n",
    "    'val_loss':val_loss_list\n",
    "    }, PATH)\n",
    "    clear_output()\n",
    "    return train_loss_list, val_loss_list,PATH"
   ]
  },
  {
   "cell_type": "code",
   "execution_count": 102,
   "id": "efe936ab-c8b3-44e2-b4bd-fb8a991275ce",
   "metadata": {
    "tags": []
   },
   "outputs": [
    {
     "name": "stderr",
     "output_type": "stream",
     "text": [
      "\u001b[32m[I 2023-03-29 21:51:51,758]\u001b[0m Trial 29 finished with value: 0.20227501328830744 and parameters: {'learning_rate': 6.733108491543144e-06, 'reduction_param': 0.8, 'num_train_epochs': 40.0, 'sequence_length': 48.0, 'batch_size': 16, 'loss_parameter': 6, 'dropout': 0.8}. Best is trial 26 with value: 0.024932295449318166.\u001b[0m\n"
     ]
    },
    {
     "name": "stdout",
     "output_type": "stream",
     "text": [
      "Number of finished trials: 30\n",
      "Best trial:\n",
      "  Value: 0.02493\n",
      "  Params: \n",
      "    learning_rate: 6.985984390358178e-06\n",
      "    reduction_param: 0.7000000000000001\n",
      "    num_train_epochs: 30.0\n",
      "    sequence_length: 12.0\n",
      "    batch_size: 16\n",
      "    loss_parameter: 0.5\n",
      "    dropout: 0.6\n"
     ]
    }
   ],
   "source": [
    "NUM_TRIALS=30\n",
    "\n",
    "def objective(trial: optuna.Trial):     \n",
    "    learning_rate = trial.suggest_loguniform('learning_rate', low=LR_MIN, high=LR_CEIL)\n",
    "    reduction_param = trial.suggest_discrete_uniform('reduction_param', low=RP_MIN, high=RP_MAX,q=0.1)\n",
    "    num_train_epochs = trial.suggest_discrete_uniform('num_train_epochs', low=MIN_EPOCHS, high=MAX_EPOCHS,q=10)\n",
    "    sequence_length = trial.suggest_discrete_uniform('sequence_length', MIN_SEQ_LEN, MAX_SEQ_LEN,q=12)\n",
    "    batch_size = trial.suggest_categorical('batch_size', BATCH_VALUES)\n",
    "    loss_parameter = trial.suggest_categorical('loss_parameter', LOSS_PARAMS_LIST)\n",
    "    dropout = trial.suggest_discrete_uniform('dropout', MIN_DROPOUT, MAX_DROPOUT,q=0.1)  \n",
    "    \n",
    "    sequence_length=int(sequence_length)\n",
    "    d_input = train.shape[1]\n",
    "    embedding_size = int(d_input * reduction_param)\n",
    "    batch_size=int(batch_size)\n",
    "    num_train_epochs=int(num_train_epochs)\n",
    "    \n",
    "    print('sequence_length',sequence_length,'batch_size',batch_size,'num_train_epochs',num_train_epochs)\n",
    "    print('input_dim',d_input,'embedding_size',embedding_size,'reduction_param',reduction_param)\n",
    "    model_ae_lstm = LSTM_AE(sequence_length,d_input,embedding_size)\n",
    "    if torch.cuda.is_available():\n",
    "        model_ae_lstm = model_ae_lstm.cuda()    \n",
    "    train_dataset = TSImputationTrainDataset(train,sequence_length,missing_ratio)\n",
    "    val_dataset = TSImputationTrainDataset(val,sequence_length,missing_ratio)\n",
    "    test_dataset = TSImputationEvalDataset(test,test_nan,test_mask,sequence_length)\n",
    "    train_loader = DataLoader(train_dataset, batch_size=batch_size, shuffle=True)\n",
    "    val_loader = DataLoader(val_dataset, batch_size=batch_size, shuffle=False)\n",
    "    test_loader = DataLoader(test_dataset, batch_size=1, shuffle=False)\n",
    "    print('total training batch number: {}'.format(len(train_loader)))\n",
    "    print('total validation batch number: {}'.format(len(val_loader)))\n",
    "    print('total test batch number: {}'.format(len(test_loader)))\n",
    "\n",
    "    loss_fn = ORT_MIT_Loss(loss_parameter)\n",
    "    \n",
    "    train_loss_list, val_loss_list,model_ae_lstm_path  = train_model_AE_LSTM(model_ae_lstm,loss_fn,num_train_epochs,train_loader,val_loader, learning_rate=learning_rate)\n",
    "         \n",
    "    return train_loss_list[-1]\n",
    "\n",
    "study = optuna.create_study(study_name='deepl_finetune', direction='minimize') \n",
    "study.optimize(func=objective, n_trials=30)  \n",
    "\n",
    "print('Number of finished trials:', len(study.trials))\n",
    "print('Best trial:')\n",
    "trial = study.best_trial\n",
    "print('  Value: {:.5f}'.format(trial.value))\n",
    "print('  Params: ')\n",
    "for key, value in trial.params.items():\n",
    "    print('    {}: {}'.format(key, value))"
   ]
  },
  {
   "cell_type": "code",
   "execution_count": 53,
   "id": "7828fb55-4d1e-46f2-9085-348f9e6a44bb",
   "metadata": {
    "tags": []
   },
   "outputs": [
    {
     "name": "stdout",
     "output_type": "stream",
     "text": [
      "This model has  719  parameter\n"
     ]
    },
    {
     "data": {
      "text/plain": [
       "719"
      ]
     },
     "execution_count": 53,
     "metadata": {},
     "output_type": "execute_result"
    }
   ],
   "source": [
    "count_parameters(model_ae_lstm)"
   ]
  },
  {
   "cell_type": "code",
   "execution_count": 54,
   "id": "f2f5b6aa-0547-4403-92d8-4254e8656a96",
   "metadata": {
    "tags": []
   },
   "outputs": [
    {
     "data": {
      "text/plain": [
       "<Axes: xlabel='epochs'>"
      ]
     },
     "execution_count": 54,
     "metadata": {},
     "output_type": "execute_result"
    },
    {
     "data": {
      "image/png": "[encoded data removed]",
      "text/plain": [
       "<Figure size 1200x300 with 1 Axes>"
      ]
     },
     "metadata": {},
     "output_type": "display_data"
    }
   ],
   "source": [
    "# sequence length = 4\n",
    "train_loss_list, val_loss_list,lr_values,max_weights, max_grads,model_ae_lstm_path  = train_model_AE_LSTM(model_ae_lstm,loss_fn,100,train_loader,val_loader, learning_rate=1e-2)\n",
    "# removed dropout -> mse 0.02\n",
    "df = pd.DataFrame({'epochs':[i for i in range(100)],'train_loss': train_loss_list,'val_loss': val_loss_list})\n",
    "df.plot(x=\"epochs\", y=[\"train_loss\", \"val_loss\"],kind=\"line\")"
   ]
  },
  {
   "cell_type": "code",
   "execution_count": 55,
   "id": "186eeab3-e870-4224-898b-3719f21ae4bc",
   "metadata": {
    "tags": []
   },
   "outputs": [
    {
     "data": {
      "image/png": "[encoded data removed]",
      "text/plain": [
       "<Figure size 1200x300 with 1 Axes>"
      ]
     },
     "metadata": {},
     "output_type": "display_data"
    }
   ],
   "source": [
    "plt.plot(lr_values)\n",
    "plt.xlabel('Step')\n",
    "plt.ylabel('Learning Rate')\n",
    "plt.title('Learning Rate Schedule')\n",
    "plt.show()"
   ]
  },
  {
   "cell_type": "markdown",
   "id": "e7020b0c-01b6-45da-8c2b-8c6df6ae057c",
   "metadata": {
    "tags": []
   },
   "source": [
    "# **Transformer Encoder Model**"
   ]
  },
  {
   "cell_type": "code",
   "execution_count": 103,
   "id": "6bd46908-3aef-4744-aee5-60188cc1d374",
   "metadata": {
    "tags": []
   },
   "outputs": [],
   "source": [
    "class TST(nn.Module):\n",
    "    \"Core encoder is a stack of N layers\"\n",
    "    def __init__(self, Encoder,PositionalEncoding, N, d_model, d_input): ## layer = EncoderLayer\n",
    "        super(TST, self).__init__()\n",
    "        self.first_layer = nn.Linear(d_input, d_model)\n",
    "        self.PE = PositionalEncoding\n",
    "        self.Encoder = Encoder\n",
    "        self.last_layer = nn.Linear(d_model, d_input)\n",
    "\n",
    "    def forward(self, x, mask):\n",
    "        \"Pass the input through embedding and positional encoder and the output through a linear layer\"\n",
    "        x = self.first_layer(x)\n",
    "        x = self.PE(x)\n",
    "        x = self.Encoder(x,mask)\n",
    "        x = self.last_layer(x)\n",
    "        x = torch.sigmoid(x)\n",
    "        return x\n",
    "\n",
    "class Encoder(nn.Module):\n",
    "    \"Core encoder is a stack of N layers\"\n",
    "    def __init__(self, layer, N): \n",
    "        super(Encoder, self).__init__()\n",
    "        self.layers = clones(layer, N)\n",
    "\n",
    "    def forward(self, x, mask):\n",
    "        \"Pass the input (and mask) through each layer in turn.\"\n",
    "        for layer in self.layers:\n",
    "            x = layer(x, mask)\n",
    "        return x\n",
    "\n",
    "class LayerNorm(nn.Module):\n",
    "    \"Construct a layernorm module\"\n",
    "    def __init__(self, features, eps=1e-6):\n",
    "        super(LayerNorm, self).__init__()\n",
    "        self.a_2 = nn.Parameter(torch.ones(features))\n",
    "        self.b_2 = nn.Parameter(torch.zeros(features))\n",
    "        self.eps = eps\n",
    "\n",
    "    def forward(self, x):\n",
    "        mean = x.mean(-1, keepdim=True)\n",
    "        std = x.std(-1, keepdim=True)\n",
    "        return self.a_2 * (x - mean) / (std + self.eps) + self.b_2\n",
    "\n",
    "class SublayerConnection(nn.Module):\n",
    "    \"\"\"\n",
    "    A residual connection followed by a layer norm.\n",
    "    \"\"\"\n",
    "    def __init__(self, size, dropout):\n",
    "        super(SublayerConnection, self).__init__()\n",
    "        self.norm = LayerNorm(size)\n",
    "        self.dropout = nn.Dropout(dropout)\n",
    "\n",
    "    def forward(self, x, sublayer):\n",
    "        \"Apply residual connection to any sublayer with the same size.\"\n",
    "        return x + self.dropout(sublayer(self.norm(x)))\n",
    "\n",
    "class EncoderLayer(nn.Module):\n",
    "    \"Encoder is made up of self-attn and feed forward\"\n",
    "    def __init__(self, size, self_attn, feed_forward, dropout):\n",
    "        super(EncoderLayer, self).__init__()\n",
    "        self.self_attn = self_attn\n",
    "        self.feed_forward = feed_forward\n",
    "        self.sublayer = clones(SublayerConnection(size, dropout), 2)\n",
    "        self.size = size\n",
    "\n",
    "    def forward(self, x, mask):\n",
    "        x = self.sublayer[0].forward(x, lambda x: self.self_attn(x, x, x, mask))\n",
    "        return self.sublayer[1].forward(x, self.feed_forward)\n",
    "\n",
    "def attention(query, key, value, mask=None, dropout=None):\n",
    "    \"Compute 'Scaled Dot Product Attention'\"\n",
    "    d_k = query.size(-1)\n",
    "    scores = torch.matmul(query, key.transpose(-2, -1)) / math.sqrt(d_k)\n",
    "    if mask is not None:\n",
    "        scores = scores.masked_fill(mask == 0, -1e9)\n",
    "    p_attn = scores.softmax(dim=-1)\n",
    "    if dropout is not None:\n",
    "        p_attn = dropout(p_attn)\n",
    "    return torch.matmul(p_attn, value), p_attn\n",
    "\n",
    "class MultiHeadedAttention(nn.Module):\n",
    "    def __init__(self, h, d_model, dropout=0.1):\n",
    "        \"Take in model size and number of heads.\"\n",
    "        super(MultiHeadedAttention, self).__init__()\n",
    "        assert d_model % h == 0\n",
    "        # We assume d_v always equals d_k\n",
    "        self.d_k = d_model // h\n",
    "        self.h = h\n",
    "        self.linears = clones(nn.Linear(d_model, d_model), 4)\n",
    "        self.attn = None\n",
    "        self.dropout = nn.Dropout(p=dropout)\n",
    "\n",
    "    def forward(self, query, key, value, mask=None):\n",
    "        if mask is not None:\n",
    "            # Same mask applied to all h heads.\n",
    "            mask = mask.unsqueeze(1)\n",
    "        nbatches = query.size(0)\n",
    "        # 1) Do all the linear projections in batch from d_model => h x d_k\n",
    "        query, key, value = [\n",
    "            lin(x).view(nbatches, -1, self.h, self.d_k).transpose(1, 2)\n",
    "            for lin, x in zip(self.linears, (query, key, value))\n",
    "        ]\n",
    "        # 2) Apply attention on all the projected vectors in batch.\n",
    "        x, self.attn = attention(\n",
    "            query, key, value, mask=mask, dropout=self.dropout\n",
    "        )\n",
    "        # 3) \"Concat\" using a view and apply a final linear.\n",
    "        x = (\n",
    "            x.transpose(1, 2)\n",
    "            .contiguous()\n",
    "            .view(nbatches, -1, self.h * self.d_k)\n",
    "        )\n",
    "        del query\n",
    "        del key\n",
    "        del value\n",
    "        return self.linears[-1](x)\n",
    "\n",
    "class PositionwiseFeedForward(nn.Module):\n",
    "    \"Implements FFN equation.\"\n",
    "    def __init__(self, d_model, d_ff, dropout=0.1):\n",
    "        super(PositionwiseFeedForward, self).__init__()\n",
    "        self.w_1 = nn.Linear(d_model, d_ff)\n",
    "        self.w_2 = nn.Linear(d_ff, d_model)\n",
    "        self.dropout = nn.Dropout(dropout)\n",
    "\n",
    "    def forward(self, x):\n",
    "        return self.w_2(self.dropout(self.w_1(x).relu()))\n",
    "\n",
    "\n",
    "class PositionalEncoding(nn.Module):\n",
    "    \"Implement the PE function.\"\n",
    "    def __init__(self, d_model, dropout, max_len=5000):\n",
    "        super(PositionalEncoding, self).__init__()\n",
    "        self.dropout = nn.Dropout(p=dropout)\n",
    "        # Compute the positional encodings once in log space.\n",
    "        pe = torch.zeros(max_len, d_model)\n",
    "        position = torch.arange(0, max_len).unsqueeze(1)\n",
    "        div_term = torch.exp(\n",
    "            torch.arange(0, d_model, 2) * -(math.log(10000.0) / d_model)\n",
    "        )\n",
    "        pe[:, 0::2] = torch.sin(position * div_term)\n",
    "        pe[:, 1::2] = torch.cos(position * div_term)\n",
    "        pe = pe.unsqueeze(0)\n",
    "        self.register_buffer(\"pe\", pe)\n",
    "\n",
    "    def forward(self, x):\n",
    "        x = x + self.pe[:, : x.size(1)].requires_grad_(False)\n",
    "        return self.dropout(x)"
   ]
  },
  {
   "cell_type": "code",
   "execution_count": 104,
   "id": "0570f531-f01c-4d5b-820f-637ca94dffc1",
   "metadata": {
    "tags": []
   },
   "outputs": [],
   "source": [
    "def make_model(d_input,N=6, d_model=128, d_ff=2048, h=8, dropout=0.5):\n",
    "    \"Helper: Construct a model from hyperparameters.\"\n",
    "    attn = MultiHeadedAttention(h, d_model)\n",
    "    ff = PositionwiseFeedForward(d_model, d_ff, dropout)\n",
    "    Encoder_model = Encoder(EncoderLayer(d_model, attn, ff, dropout), N)\n",
    "    model = TST(Encoder_model,PositionalEncoding(d_model, dropout), N, d_model, d_input)\n",
    "    # Initialize parameters with Xavier.\n",
    "    for p in model.parameters():\n",
    "        if p.dim() > 1:\n",
    "            nn.init.xavier_uniform_(p)\n",
    "    return model"
   ]
  },
  {
   "cell_type": "markdown",
   "id": "c19897ff-d5e1-4067-a92d-3c92c7fe9507",
   "metadata": {
    "tags": []
   },
   "source": [
    "## **Train TE model**"
   ]
  },
  {
   "cell_type": "code",
   "execution_count": 105,
   "id": "fe29d8ca-ecb5-47c4-86c1-db20cc2850d3",
   "metadata": {
    "tags": []
   },
   "outputs": [],
   "source": [
    "# Parameters\n",
    "d_input = train.shape[1]"
   ]
  },
  {
   "cell_type": "code",
   "execution_count": 59,
   "id": "56f47e54-4a3f-426e-a448-bf1dc4fc6023",
   "metadata": {
    "tags": []
   },
   "outputs": [],
   "source": [
    "# Hyperparameters\n",
    "## dimension of the embedding\n",
    "d_model = 128\n",
    "## dimension of the output of FF layer\n",
    "d_ff = 64\n",
    "## Number of Encoders\n",
    "N = 3\n",
    "## Number of heads\n",
    "h = 8"
   ]
  },
  {
   "cell_type": "code",
   "execution_count": 116,
   "id": "41eac38a-3248-4056-8e9a-f0d4a3197d62",
   "metadata": {
    "tags": []
   },
   "outputs": [],
   "source": [
    "# main loop (train+eval)\n",
    "def main_loop(TS_model, loss_fn, epochs, train_loader, val_loader, learning_rate=learning_rate, gamma=0.9, d_ff=64,N=3,h=8):\n",
    "    optimizer = torch.optim.Adam(TS_model.parameters(),lr = learning_rate)  \n",
    "    scheduler = ExponentialLR(optimizer, gamma=gamma)\n",
    "    model_opt = NoamOpt(d_input, 2, 20,\n",
    "    torch.optim.Adam(TS_model.parameters(), lr=0, betas=(0.9, 0.98), eps=1e-9))\n",
    "    train_loss_list = []\n",
    "    val_loss_list = []\n",
    "    min_valid_loss = np.inf\n",
    "    for epoch in range(epochs):\n",
    "        train_loss = 0\n",
    "        # training\n",
    "        TS_model.train() # mode \"train\" agit sur \"dropout\" ou \"batchnorm\"\n",
    "        for batch in train_loader:\n",
    "            x, x_nan, mask = batch\n",
    "            if torch.cuda.is_available():\n",
    "                x, x_nan, mask = x.cuda(), x_nan.cuda(), mask.cuda()\n",
    "            optimizer.zero_grad()\n",
    "            out = TS_model(x_nan,None)\n",
    "            loss = loss_fn(out, x,mask)\n",
    "            loss.backward()\n",
    "            optimizer.step()\n",
    "            train_loss += loss.item()\n",
    "        #scheduler.step()\n",
    "        # validation\n",
    "        valid_loss = 0.0\n",
    "        TS_model.eval() \n",
    "        with torch.no_grad():\n",
    "            for batch in val_loader:\n",
    "                x, x_nan, mask = batch\n",
    "                if torch.cuda.is_available():\n",
    "                    x, x_nan, mask = x.cuda(), x_nan.cuda(), mask.cuda()\n",
    "                out = TS_model(x_nan,None)\n",
    "                loss = loss_fn(out, x,mask)\n",
    "                valid_loss += loss.item()\n",
    "        if min_valid_loss > valid_loss:\n",
    "            min_valid_loss = valid_loss\n",
    "            # Saving State Dict\n",
    "            date_time = datetime.datetime.now()\n",
    "            index = ('_').join(str(date_time).split(' '))\n",
    "            PATH = './trained_models/model_' + index\n",
    "            torch.save({\n",
    "            'epoch': epoch,\n",
    "            'd_input':d_input,\n",
    "            'N': N,\n",
    "            'd_model':d_model,\n",
    "            'd_ff': d_ff,\n",
    "            'h': h,\n",
    "            'dropout':dropout,\n",
    "            'batch_size': batch_size,\n",
    "            'learning_rate':learning_rate,\n",
    "            'missing_ratio': missing_ratio,\n",
    "            'model_state_dict': TS_model.state_dict()\n",
    "            }, PATH)\n",
    "        train_loss_list.append(train_loss / len(train_loader))\n",
    "        val_loss_list.append(valid_loss/len(val_loader))\n",
    "        print('Epoch {}: train loss: {}, val loss: {}'.format(epoch,train_loss / len(train_loader),valid_loss/len(val_loader)))\n",
    "    # Saving State Dict\n",
    "    date_time = datetime.datetime.now()\n",
    "    index = ('_').join(str(date_time).split(' '))\n",
    "    PATH = './trained_models/TS_models/model_final_' + index\n",
    "    torch.save({\n",
    "    'epoch': epochs,\n",
    "    'd_input':d_input,\n",
    "    'N': N,\n",
    "    'd_model':d_model,\n",
    "    'd_ff': d_ff,\n",
    "    'h': h,\n",
    "    'dropout':dropout,\n",
    "    'batch_size': batch_size,\n",
    "    'learning_rate':learning_rate,\n",
    "    'missing_ratio': missing_ratio,\n",
    "    'model_state_dict': TS_model.state_dict(),\n",
    "    'train_loss': train_loss_list,\n",
    "    'val_loss':val_loss_list\n",
    "    }, PATH)\n",
    "    clear_output()\n",
    "    print('last model version path: ',PATH)\n",
    "    return train_loss_list, val_loss_list,PATH"
   ]
  },
  {
   "cell_type": "code",
   "execution_count": null,
   "id": "674340a6-7a57-46d6-ab0f-138dfdb05fe6",
   "metadata": {
    "tags": []
   },
   "outputs": [
    {
     "name": "stderr",
     "output_type": "stream",
     "text": [
      "\u001b[32m[I 2023-03-29 22:27:52,701]\u001b[0m A new study created in memory with name: deepl_finetune\u001b[0m\n"
     ]
    },
    {
     "name": "stdout",
     "output_type": "stream",
     "text": [
      "sequence_length 24 batch_size 64 num_train_epochs 60\n",
      "total training batch number: 113\n",
      "total validation batch number: 29\n",
      "total test batch number: 3877\n",
      "Epoch 0: train loss: 0.19340679309969316, val loss: 0.17158754656981928\n",
      "Epoch 1: train loss: 0.13714708269637538, val loss: 0.10723416627026448\n",
      "Epoch 2: train loss: 0.10630912649697355, val loss: 0.09598632002400119\n",
      "Epoch 3: train loss: 0.0922654179424862, val loss: 0.08813426007473485\n",
      "Epoch 4: train loss: 0.08374544797980642, val loss: 0.08241056218728135\n",
      "Epoch 5: train loss: 0.077744110346161, val loss: 0.07829727384154633\n",
      "Epoch 6: train loss: 0.07315669043796214, val loss: 0.07487509063969769\n",
      "Epoch 7: train loss: 0.06943125885121423, val loss: 0.07174611298873033\n",
      "Epoch 8: train loss: 0.06629212829021695, val loss: 0.06917430827391519\n",
      "Epoch 9: train loss: 0.06357121965772157, val loss: 0.066712932273724\n",
      "Epoch 10: train loss: 0.06116427017373364, val loss: 0.06442182667301573\n",
      "Epoch 11: train loss: 0.0590445961635803, val loss: 0.06251364298688222\n",
      "Epoch 12: train loss: 0.05716790849135924, val loss: 0.06072191103194728\n",
      "Epoch 13: train loss: 0.05552349565153545, val loss: 0.05926918984965478\n",
      "Epoch 14: train loss: 0.0540837091142122, val loss: 0.05812899135764139\n",
      "Epoch 15: train loss: 0.05280660855386995, val loss: 0.05718282622588339\n"
     ]
    }
   ],
   "source": [
    "NUM_TRIALS=20\n",
    "d_model = 128\n",
    "\n",
    "def objective(trial: optuna.Trial): \n",
    "    \n",
    "## dimension of the output of FF layer\n",
    "    d_ff_vals = [32,64]\n",
    "    ## Number of Encoders\n",
    "    N_vals = [2,3,4,5]\n",
    "    ## Number of heads\n",
    "    h_vals =[2,4,6, 8]\n",
    "    learning_rate = trial.suggest_loguniform('learning_rate', low=LR_MIN, high=LR_CEIL)\n",
    "    h = trial.suggest_categorical('h', h_vals)\n",
    "    N = trial.suggest_categorical('N', N_vals)\n",
    "    d_ff= trial.suggest_categorical('d_ff', d_ff_vals)\n",
    "    num_train_epochs = trial.suggest_discrete_uniform('num_train_epochs', low=MIN_EPOCHS, high=MAX_EPOCHS,q=10)\n",
    "    sequence_length = trial.suggest_discrete_uniform('sequence_length', MIN_SEQ_LEN, MAX_SEQ_LEN,q=12)\n",
    "    batch_size = trial.suggest_categorical('batch_size', BATCH_VALUES)\n",
    "    loss_parameter = trial.suggest_categorical('loss_parameter', LOSS_PARAMS_LIST)\n",
    "    dropout = trial.suggest_discrete_uniform('dropout', MIN_DROPOUT, MAX_DROPOUT,q=0.1)  \n",
    "    \n",
    "    sequence_length=int(sequence_length)\n",
    "    d_input = train.shape[1]\n",
    "    batch_size=int(batch_size)\n",
    "    num_train_epochs=int(num_train_epochs)\n",
    "    \n",
    "    print('sequence_length',sequence_length,'batch_size',batch_size,'num_train_epochs',num_train_epochs)\n",
    "    TS_model = make_model(d_input=d_input, N=N, d_model=d_model, d_ff=d_ff, h=h, dropout=dropout)\n",
    "    if torch.cuda.is_available():\n",
    "        TS_model = TS_model.cuda()  \n",
    "        \n",
    "    train_dataset = TSImputationTrainDataset(train,sequence_length,missing_ratio)\n",
    "    val_dataset = TSImputationTrainDataset(val,sequence_length,missing_ratio)\n",
    "    test_dataset = TSImputationEvalDataset(test,test_nan,test_mask,sequence_length)\n",
    "    train_loader = DataLoader(train_dataset, batch_size=batch_size, shuffle=True)\n",
    "    val_loader = DataLoader(val_dataset, batch_size=batch_size, shuffle=False)\n",
    "    test_loader = DataLoader(test_dataset, batch_size=1, shuffle=False)\n",
    "    print('total training batch number: {}'.format(len(train_loader)))\n",
    "    print('total validation batch number: {}'.format(len(val_loader)))\n",
    "    print('total test batch number: {}'.format(len(test_loader)))\n",
    "\n",
    "    loss_fn = ORT_MIT_Loss(loss_parameter)\n",
    "    \n",
    "    train_loss_list, val_loss_list,TS_model_Path = main_loop(TS_model,loss_fn,num_train_epochs,train_loader,val_loader,learning_rate=learning_rate, d_ff=d_ff,N=N,h=h)\n",
    "         \n",
    "    return train_loss_list[-1]\n",
    "\n",
    "study = optuna.create_study(study_name='deepl_finetune', direction='minimize') \n",
    "study.optimize(func=objective, n_trials=NUM_TRIALS)  \n",
    "\n",
    "print('Number of finished trials:', len(study.trials))\n",
    "print('Best trial:')\n",
    "trial = study.best_trial\n",
    "print('  Value: {:.5f}'.format(trial.value))\n",
    "print('  Params: ')\n",
    "for key, value in trial.params.items():\n",
    "    print('    {}: {}'.format(key, value))"
   ]
  },
  {
   "cell_type": "code",
   "execution_count": 61,
   "id": "896f06e4-b12e-42a3-aed5-7a6332dbcfa5",
   "metadata": {
    "tags": []
   },
   "outputs": [],
   "source": [
    "# Init Model\n",
    "TS_model = make_model(d_input=d_input, N=N, d_model=d_model, d_ff=d_ff, h=h, dropout=dropout)\n",
    "if torch.cuda.is_available():\n",
    "    TS_model = TS_model.cuda()\n"
   ]
  },
  {
   "cell_type": "code",
   "execution_count": 62,
   "id": "125b8852-2eb4-4488-a8be-7deedb826389",
   "metadata": {
    "tags": []
   },
   "outputs": [
    {
     "name": "stdout",
     "output_type": "stream",
     "text": [
      "This model has  251335  parameter\n"
     ]
    },
    {
     "data": {
      "text/plain": [
       "251335"
      ]
     },
     "execution_count": 62,
     "metadata": {},
     "output_type": "execute_result"
    }
   ],
   "source": [
    "count_parameters(TS_model)"
   ]
  },
  {
   "cell_type": "code",
   "execution_count": 63,
   "id": "3e587981-bb4b-4e93-ba39-b7281f1ba782",
   "metadata": {
    "tags": []
   },
   "outputs": [
    {
     "name": "stdout",
     "output_type": "stream",
     "text": [
      "last model version path:  ./trained_models/TS_models/model_final_2023-03-28_22:34:46.098520\n"
     ]
    },
    {
     "data": {
      "text/plain": [
       "<Axes: xlabel='epochs'>"
      ]
     },
     "execution_count": 63,
     "metadata": {},
     "output_type": "execute_result"
    },
    {
     "data": {
      "image/png": "[encoded data removed]",
      "text/plain": [
       "<Figure size 1200x300 with 1 Axes>"
      ]
     },
     "metadata": {},
     "output_type": "display_data"
    }
   ],
   "source": [
    "# sequence length = 4\n",
    "train_loss_list, val_loss_list,TS_model_Path = main_loop(TS_model,loss_fn,epochs,train_loader,val_loader)\n",
    "df = pd.DataFrame({'epochs':[i for i in range(epochs)],'train_loss': train_loss_list,'val_loss': val_loss_list})\n",
    "df.plot(x=\"epochs\", y=[\"train_loss\", \"val_loss\"],kind=\"line\")"
   ]
  },
  {
   "cell_type": "markdown",
   "id": "d5a52ee2-a17e-4cdc-9fbc-eeae828a8e34",
   "metadata": {},
   "source": [
    "# **Synthesis**"
   ]
  },
  {
   "cell_type": "code",
   "execution_count": 65,
   "id": "4a465ed7-ff95-4e4c-9354-b9d90562e6ca",
   "metadata": {
    "tags": []
   },
   "outputs": [
    {
     "name": "stdout",
     "output_type": "stream",
     "text": [
      "--------------------\n",
      "For  AE  the mse per column is: \n",
      "Global_active_power      0.001839\n",
      "Global_reactive_power    0.001779\n",
      "Voltage                  0.001506\n",
      "Global_intensity         0.002299\n",
      "Sub_metering_1           0.000674\n",
      "Sub_metering_2           0.002915\n",
      "Sub_metering_3           0.017617\n",
      "dtype: float64\n",
      "mse_mean  0.004089850154877012\n",
      "--------------------\n",
      "For  Conv_autoencoder  the mse per column is: \n",
      "Global_active_power      0.041648\n",
      "Global_reactive_power    0.035199\n",
      "Voltage                  0.288675\n",
      "Global_intensity         0.037884\n",
      "Sub_metering_1           0.005015\n",
      "Sub_metering_2           0.016066\n",
      "Sub_metering_3           0.217708\n",
      "dtype: float64\n",
      "mse_mean  0.09174225317484878\n",
      "--------------------\n",
      "For  LSTM_autoencoder  the mse per column is: \n",
      "Global_active_power      0.043029\n",
      "Global_reactive_power    0.035422\n",
      "Voltage                  0.289764\n",
      "Global_intensity         0.040174\n",
      "Sub_metering_1           0.005091\n",
      "Sub_metering_2           0.016019\n",
      "Sub_metering_3           0.232632\n",
      "dtype: float64\n",
      "mse_mean  0.09459014030482682\n",
      "--------------------\n",
      "For  Transformer_encoder  the mse per column is: \n",
      "Global_active_power      0.041235\n",
      "Global_reactive_power    0.034006\n",
      "Voltage                  0.287361\n",
      "Global_intensity         0.037325\n",
      "Sub_metering_1           0.004942\n",
      "Sub_metering_2           0.015916\n",
      "Sub_metering_3           0.216106\n",
      "dtype: float64\n",
      "mse_mean  0.09098432911767758\n"
     ]
    }
   ],
   "source": [
    "# AE model evaluation\n",
    "model_ae=load_model(model_ae,model_ae_PATH) #get AE model\n",
    "test_predicted, test_or = predict(model_ae, test,48,test_loader, is_flatten = True, is_TS = False )\n",
    "mse_ae = evaluate_imputation_mse(test_or, test_predicted, test_mask,\"AE\")\n",
    "t_test_ae = t_test(test_or, test_predicted, test_mask, \"AE\")\n",
    "# AE_conv model eval\n",
    "\n",
    "model_conv_ae=load_model(model_conv_ae,model_conv_ae_path) #get Conv_AE model\n",
    "test_predicted, test_or = predict(model_conv_ae, test,48,test_loader, is_flatten = False, is_TS = False )\n",
    "mse_conv_ae = evaluate_imputation_mse(test, test_predicted, test_mask,\"Conv_autoencoder\")\n",
    "t_test_conv_ae = t_test(test_or, test_predicted, test_mask, \"Conv_autoencoder\")\n",
    "\n",
    "# AE_LSTM model eval\n",
    "model_ae_lstm=load_model(model_ae_lstm,model_ae_lstm_path) #get LSTM_AE model\n",
    "test_predicted, test_or = predict(model_ae_lstm, test,48,test_loader, is_flatten = False, is_TS = False )\n",
    "mse_lstm_ae = evaluate_imputation_mse(test, test_predicted, test_mask,\"LSTM_autoencoder\")\n",
    "t_test_lstm_ae = t_test(test_or, test_predicted, test_mask, \"LSTM_autoencoder\")\n",
    "\n",
    "# transformer model eval\n",
    " # _____________ get transformer model _______________________\n",
    "model_path = TS_model_Path\n",
    "info = torch.load(model_path)\n",
    "model_TS = make_model(d_input=info['d_input'], N=info['N'], d_model=info['d_model'], d_ff=info['d_ff'], h=info['h'], dropout=info['dropout'])\n",
    "model_TS=load_model(model_TS,model_path) #get LSTM_AE model\n",
    "if torch.cuda.is_available():\n",
    "    model_TS = model_TS.cuda()\n",
    "#_____________________________________________________________\n",
    "test_predicted, test_or = predict(model_TS, test,48,test_loader, is_flatten = False, is_TS = True )\n",
    "mse_ts = evaluate_imputation_mse(test, test_predicted, test_mask,\"Transformer_encoder\")\n",
    "t_test_ts  = t_test(test_or, test_predicted, test_mask, \"Transformer_encoder\")\n"
   ]
  },
  {
   "cell_type": "code",
   "execution_count": 66,
   "id": "3b36344e-d4c3-434c-b8a9-5ae99d4c9b1c",
   "metadata": {
    "tags": []
   },
   "outputs": [
    {
     "name": "stdout",
     "output_type": "stream",
     "text": [
      "--------------------\n",
      "For  mean  the mse per column is: \n",
      "Global_active_power      0.023930\n",
      "Global_reactive_power    0.014877\n",
      "Voltage                  0.014104\n",
      "Global_intensity         0.022556\n",
      "Sub_metering_1           0.004737\n",
      "Sub_metering_2           0.014978\n",
      "Sub_metering_3           0.156451\n",
      "dtype: float64\n",
      "mse_mean  0.03594758651598736\n",
      "--------------------\n",
      "For  median  the mse per column is: \n",
      "Global_active_power      0.025356\n",
      "Global_reactive_power    0.015654\n",
      "Voltage                  0.014113\n",
      "Global_intensity         0.024864\n",
      "Sub_metering_1           0.005269\n",
      "Sub_metering_2           0.016011\n",
      "Sub_metering_3           0.221229\n",
      "dtype: float64\n",
      "mse_mean  0.04607086389152119\n",
      "--------------------\n",
      "For  mode  the mse per column is: \n",
      "Global_active_power      0.045514\n",
      "Global_reactive_power    0.025967\n",
      "Voltage                  0.014491\n",
      "Global_intensity         0.044729\n",
      "Sub_metering_1           0.005269\n",
      "Sub_metering_2           0.016419\n",
      "Sub_metering_3           0.273096\n",
      "dtype: float64\n",
      "mse_mean  0.06078356406033503\n",
      "--------------------\n",
      "For  LOCF  the mse per column is: \n",
      "Global_active_power      0.019670\n",
      "Global_reactive_power    0.017512\n",
      "Voltage                  0.008014\n",
      "Global_intensity         0.020615\n",
      "Sub_metering_1           0.007434\n",
      "Sub_metering_2           0.016224\n",
      "Sub_metering_3           0.140498\n",
      "dtype: float64\n",
      "mse_mean  0.032852420469677526\n",
      "--------------------\n",
      "For  NOCB  the mse per column is: \n",
      "Global_active_power      0.019862\n",
      "Global_reactive_power    0.017441\n",
      "Voltage                  0.009025\n",
      "Global_intensity         0.016480\n",
      "Sub_metering_1           0.009020\n",
      "Sub_metering_2           0.016261\n",
      "Sub_metering_3           0.137902\n",
      "dtype: float64\n",
      "mse_mean  0.03228446260384237\n",
      "--------------------\n",
      "For  linear_interpolation  the mse per column is: \n",
      "Global_active_power      0.009997\n",
      "Global_reactive_power    0.012584\n",
      "Voltage                  0.003788\n",
      "Global_intensity         0.009807\n",
      "Sub_metering_1           0.005202\n",
      "Sub_metering_2           0.010358\n",
      "Sub_metering_3           0.077162\n",
      "dtype: float64\n",
      "mse_mean  0.018413976896582314\n",
      "--------------------\n",
      "For  spline_interpolation  the mse per column is: \n",
      "Global_active_power      0.023564\n",
      "Global_reactive_power    0.013262\n",
      "Voltage                  0.013036\n",
      "Global_intensity         0.022020\n",
      "Sub_metering_1           0.004737\n",
      "Sub_metering_2           0.014983\n",
      "Sub_metering_3           0.155916\n",
      "dtype: float64\n",
      "mse_mean  0.03535967759223294\n",
      "--------------------\n",
      "For  knn  the mse per column is: \n",
      "Global_active_power      0.021452\n",
      "Global_reactive_power    0.013611\n",
      "Voltage                  0.016094\n",
      "Global_intensity         0.022098\n",
      "Sub_metering_1           0.005014\n",
      "Sub_metering_2           0.015629\n",
      "Sub_metering_3           0.163918\n",
      "dtype: float64\n",
      "mse_mean  0.036830681783671375\n",
      "--------------------\n",
      "For  mice  the mse per column is: \n",
      "Global_active_power      0.004576\n",
      "Global_reactive_power    0.013740\n",
      "Voltage                  0.010853\n",
      "Global_intensity         0.004052\n",
      "Sub_metering_1           0.004721\n",
      "Sub_metering_2           0.013243\n",
      "Sub_metering_3           0.086816\n",
      "dtype: float64\n",
      "mse_mean  0.019714463852115956\n"
     ]
    },
    {
     "data": {
      "text/html": [
       "<div>\n",
       "<style scoped>\n",
       "    .dataframe tbody tr th:only-of-type {\n",
       "        vertical-align: middle;\n",
       "    }\n",
       "\n",
       "    .dataframe tbody tr th {\n",
       "        vertical-align: top;\n",
       "    }\n",
       "\n",
       "    .dataframe thead th {\n",
       "        text-align: right;\n",
       "    }\n",
       "</style>\n",
       "<table border=\"1\" class=\"dataframe\">\n",
       "  <thead>\n",
       "    <tr style=\"text-align: right;\">\n",
       "      <th></th>\n",
       "      <th>method</th>\n",
       "      <th>mse</th>\n",
       "      <th>var</th>\n",
       "    </tr>\n",
       "  </thead>\n",
       "  <tbody>\n",
       "    <tr>\n",
       "      <th>0</th>\n",
       "      <td>AE</td>\n",
       "      <td>0.004090</td>\n",
       "      <td>0.000036</td>\n",
       "    </tr>\n",
       "    <tr>\n",
       "      <th>1</th>\n",
       "      <td>linear_interpolation</td>\n",
       "      <td>0.018414</td>\n",
       "      <td>0.000681</td>\n",
       "    </tr>\n",
       "    <tr>\n",
       "      <th>2</th>\n",
       "      <td>mice</td>\n",
       "      <td>0.019714</td>\n",
       "      <td>0.000893</td>\n",
       "    </tr>\n",
       "    <tr>\n",
       "      <th>3</th>\n",
       "      <td>NOCB</td>\n",
       "      <td>0.032284</td>\n",
       "      <td>0.002186</td>\n",
       "    </tr>\n",
       "    <tr>\n",
       "      <th>4</th>\n",
       "      <td>LOCF</td>\n",
       "      <td>0.032852</td>\n",
       "      <td>0.002281</td>\n",
       "    </tr>\n",
       "    <tr>\n",
       "      <th>5</th>\n",
       "      <td>spline_interpolation</td>\n",
       "      <td>0.035360</td>\n",
       "      <td>0.002865</td>\n",
       "    </tr>\n",
       "    <tr>\n",
       "      <th>6</th>\n",
       "      <td>mean</td>\n",
       "      <td>0.035948</td>\n",
       "      <td>0.002863</td>\n",
       "    </tr>\n",
       "    <tr>\n",
       "      <th>7</th>\n",
       "      <td>knn</td>\n",
       "      <td>0.036831</td>\n",
       "      <td>0.003173</td>\n",
       "    </tr>\n",
       "    <tr>\n",
       "      <th>8</th>\n",
       "      <td>median</td>\n",
       "      <td>0.046071</td>\n",
       "      <td>0.006012</td>\n",
       "    </tr>\n",
       "    <tr>\n",
       "      <th>9</th>\n",
       "      <td>mode</td>\n",
       "      <td>0.060784</td>\n",
       "      <td>0.008995</td>\n",
       "    </tr>\n",
       "    <tr>\n",
       "      <th>10</th>\n",
       "      <td>Transformer_encoder</td>\n",
       "      <td>0.090984</td>\n",
       "      <td>0.012643</td>\n",
       "    </tr>\n",
       "    <tr>\n",
       "      <th>11</th>\n",
       "      <td>Conv_autoencoder</td>\n",
       "      <td>0.091742</td>\n",
       "      <td>0.012751</td>\n",
       "    </tr>\n",
       "    <tr>\n",
       "      <th>12</th>\n",
       "      <td>LSTM_autoencoder</td>\n",
       "      <td>0.094590</td>\n",
       "      <td>0.013409</td>\n",
       "    </tr>\n",
       "  </tbody>\n",
       "</table>\n",
       "</div>"
      ],
      "text/plain": [
       "                  method       mse       var\n",
       "0                     AE  0.004090  0.000036\n",
       "1   linear_interpolation  0.018414  0.000681\n",
       "2                   mice  0.019714  0.000893\n",
       "3                   NOCB  0.032284  0.002186\n",
       "4                   LOCF  0.032852  0.002281\n",
       "5   spline_interpolation  0.035360  0.002865\n",
       "6                   mean  0.035948  0.002863\n",
       "7                    knn  0.036831  0.003173\n",
       "8                 median  0.046071  0.006012\n",
       "9                   mode  0.060784  0.008995\n",
       "10   Transformer_encoder  0.090984  0.012643\n",
       "11      Conv_autoencoder  0.091742  0.012751\n",
       "12      LSTM_autoencoder  0.094590  0.013409"
      ]
     },
     "execution_count": 66,
     "metadata": {},
     "output_type": "execute_result"
    }
   ],
   "source": [
    "evaluations, tests_classique = evaluate_set(class_methods,test,test_nan,test_mask)\n",
    "evaluations=pd.concat([evaluations,mse_ts,mse_lstm_ae,mse_ae,mse_conv_ae],axis=0)\n",
    "evaluations = evaluations.sort_values(by=[\"mse\"])\n",
    "evaluations.reset_index(drop=True, inplace=True)\n",
    "evaluations"
   ]
  },
  {
   "cell_type": "code",
   "execution_count": 67,
   "id": "bbe385e9-80f4-48c0-bc12-307e5bb582c4",
   "metadata": {
    "tags": []
   },
   "outputs": [
    {
     "data": {
      "text/plain": [
       "Text(0.5, 1.0, 'MSE evaluation of all approaches in test set')"
      ]
     },
     "execution_count": 67,
     "metadata": {},
     "output_type": "execute_result"
    },
    {
     "data": {
      "image/png": "[encoded data removed]",
      "text/plain": [
       "<Figure size 1200x300 with 1 Axes>"
      ]
     },
     "metadata": {},
     "output_type": "display_data"
    }
   ],
   "source": [
    "sns.barplot(x='mse',y='method',data=evaluations)\n",
    "plt.title('MSE evaluation of all approaches in test set')"
   ]
  },
  {
   "cell_type": "code",
   "execution_count": 69,
   "id": "74af2604-feb0-42a6-9417-e94fd4d3d22b",
   "metadata": {
    "tags": []
   },
   "outputs": [
    {
     "data": {
      "text/html": [
       "<div>\n",
       "<style scoped>\n",
       "    .dataframe tbody tr th:only-of-type {\n",
       "        vertical-align: middle;\n",
       "    }\n",
       "\n",
       "    .dataframe tbody tr th {\n",
       "        vertical-align: top;\n",
       "    }\n",
       "\n",
       "    .dataframe thead th {\n",
       "        text-align: right;\n",
       "    }\n",
       "</style>\n",
       "<table border=\"1\" class=\"dataframe\">\n",
       "  <thead>\n",
       "    <tr style=\"text-align: right;\">\n",
       "      <th></th>\n",
       "      <th>method</th>\n",
       "      <th>column</th>\n",
       "      <th>p-value</th>\n",
       "      <th>same_distribution</th>\n",
       "    </tr>\n",
       "  </thead>\n",
       "  <tbody>\n",
       "    <tr>\n",
       "      <th>0</th>\n",
       "      <td>mean</td>\n",
       "      <td>Global_active_power</td>\n",
       "      <td>0.889896</td>\n",
       "      <td>False</td>\n",
       "    </tr>\n",
       "    <tr>\n",
       "      <th>1</th>\n",
       "      <td>mean</td>\n",
       "      <td>Global_reactive_power</td>\n",
       "      <td>0.548351</td>\n",
       "      <td>False</td>\n",
       "    </tr>\n",
       "    <tr>\n",
       "      <th>2</th>\n",
       "      <td>mean</td>\n",
       "      <td>Voltage</td>\n",
       "      <td>0.947904</td>\n",
       "      <td>False</td>\n",
       "    </tr>\n",
       "    <tr>\n",
       "      <th>3</th>\n",
       "      <td>mean</td>\n",
       "      <td>Global_intensity</td>\n",
       "      <td>0.385762</td>\n",
       "      <td>False</td>\n",
       "    </tr>\n",
       "    <tr>\n",
       "      <th>4</th>\n",
       "      <td>mean</td>\n",
       "      <td>Sub_metering_1</td>\n",
       "      <td>0.618196</td>\n",
       "      <td>False</td>\n",
       "    </tr>\n",
       "    <tr>\n",
       "      <th>...</th>\n",
       "      <td>...</td>\n",
       "      <td>...</td>\n",
       "      <td>...</td>\n",
       "      <td>...</td>\n",
       "    </tr>\n",
       "    <tr>\n",
       "      <th>2</th>\n",
       "      <td>Conv_autoencoder</td>\n",
       "      <td>Voltage</td>\n",
       "      <td>0.978429</td>\n",
       "      <td>False</td>\n",
       "    </tr>\n",
       "    <tr>\n",
       "      <th>3</th>\n",
       "      <td>Conv_autoencoder</td>\n",
       "      <td>Global_intensity</td>\n",
       "      <td>0.692393</td>\n",
       "      <td>False</td>\n",
       "    </tr>\n",
       "    <tr>\n",
       "      <th>4</th>\n",
       "      <td>Conv_autoencoder</td>\n",
       "      <td>Sub_metering_1</td>\n",
       "      <td>0.857338</td>\n",
       "      <td>False</td>\n",
       "    </tr>\n",
       "    <tr>\n",
       "      <th>5</th>\n",
       "      <td>Conv_autoencoder</td>\n",
       "      <td>Sub_metering_2</td>\n",
       "      <td>0.572035</td>\n",
       "      <td>False</td>\n",
       "    </tr>\n",
       "    <tr>\n",
       "      <th>6</th>\n",
       "      <td>Conv_autoencoder</td>\n",
       "      <td>Sub_metering_3</td>\n",
       "      <td>0.665714</td>\n",
       "      <td>False</td>\n",
       "    </tr>\n",
       "  </tbody>\n",
       "</table>\n",
       "<p>119 rows × 4 columns</p>\n",
       "</div>"
      ],
      "text/plain": [
       "              method                 column   p-value  same_distribution\n",
       "0               mean    Global_active_power  0.889896              False\n",
       "1               mean  Global_reactive_power  0.548351              False\n",
       "2               mean                Voltage  0.947904              False\n",
       "3               mean       Global_intensity  0.385762              False\n",
       "4               mean         Sub_metering_1  0.618196              False\n",
       "..               ...                    ...       ...                ...\n",
       "2   Conv_autoencoder                Voltage  0.978429              False\n",
       "3   Conv_autoencoder       Global_intensity  0.692393              False\n",
       "4   Conv_autoencoder         Sub_metering_1  0.857338              False\n",
       "5   Conv_autoencoder         Sub_metering_2  0.572035              False\n",
       "6   Conv_autoencoder         Sub_metering_3  0.665714              False\n",
       "\n",
       "[119 rows x 4 columns]"
      ]
     },
     "execution_count": 69,
     "metadata": {},
     "output_type": "execute_result"
    }
   ],
   "source": [
    "tests_classique=pd.concat([tests_classique,t_test_ae,t_test_lstm_ae,t_test_ts,t_test_conv_ae],axis=0)\n",
    "tests_classique"
   ]
  },
  {
   "cell_type": "code",
   "execution_count": 70,
   "id": "d474c7ec-ac05-4fab-a145-77c9185a89e1",
   "metadata": {
    "tags": []
   },
   "outputs": [
    {
     "data": {
      "text/html": [
       "<div>\n",
       "<style scoped>\n",
       "    .dataframe tbody tr th:only-of-type {\n",
       "        vertical-align: middle;\n",
       "    }\n",
       "\n",
       "    .dataframe tbody tr th {\n",
       "        vertical-align: top;\n",
       "    }\n",
       "\n",
       "    .dataframe thead th {\n",
       "        text-align: right;\n",
       "    }\n",
       "</style>\n",
       "<table border=\"1\" class=\"dataframe\">\n",
       "  <thead>\n",
       "    <tr style=\"text-align: right;\">\n",
       "      <th></th>\n",
       "      <th>method</th>\n",
       "      <th>column</th>\n",
       "      <th>p-value</th>\n",
       "      <th>same_distribution</th>\n",
       "    </tr>\n",
       "  </thead>\n",
       "  <tbody>\n",
       "    <tr>\n",
       "      <th>0</th>\n",
       "      <td>Conv_autoencoder</td>\n",
       "      <td>Global_active_power</td>\n",
       "      <td>0.959512</td>\n",
       "      <td>False</td>\n",
       "    </tr>\n",
       "    <tr>\n",
       "      <th>1</th>\n",
       "      <td>Conv_autoencoder</td>\n",
       "      <td>Global_reactive_power</td>\n",
       "      <td>0.042954</td>\n",
       "      <td>True</td>\n",
       "    </tr>\n",
       "    <tr>\n",
       "      <th>2</th>\n",
       "      <td>Conv_autoencoder</td>\n",
       "      <td>Voltage</td>\n",
       "      <td>0.978429</td>\n",
       "      <td>False</td>\n",
       "    </tr>\n",
       "    <tr>\n",
       "      <th>3</th>\n",
       "      <td>Conv_autoencoder</td>\n",
       "      <td>Global_intensity</td>\n",
       "      <td>0.692393</td>\n",
       "      <td>False</td>\n",
       "    </tr>\n",
       "    <tr>\n",
       "      <th>4</th>\n",
       "      <td>Conv_autoencoder</td>\n",
       "      <td>Sub_metering_1</td>\n",
       "      <td>0.857338</td>\n",
       "      <td>False</td>\n",
       "    </tr>\n",
       "    <tr>\n",
       "      <th>5</th>\n",
       "      <td>Conv_autoencoder</td>\n",
       "      <td>Sub_metering_2</td>\n",
       "      <td>0.572035</td>\n",
       "      <td>False</td>\n",
       "    </tr>\n",
       "    <tr>\n",
       "      <th>6</th>\n",
       "      <td>Conv_autoencoder</td>\n",
       "      <td>Sub_metering_3</td>\n",
       "      <td>0.665714</td>\n",
       "      <td>False</td>\n",
       "    </tr>\n",
       "    <tr>\n",
       "      <th>0</th>\n",
       "      <td>Conv_autoencoder</td>\n",
       "      <td>Global_active_power</td>\n",
       "      <td>0.959512</td>\n",
       "      <td>False</td>\n",
       "    </tr>\n",
       "    <tr>\n",
       "      <th>1</th>\n",
       "      <td>Conv_autoencoder</td>\n",
       "      <td>Global_reactive_power</td>\n",
       "      <td>0.042954</td>\n",
       "      <td>True</td>\n",
       "    </tr>\n",
       "    <tr>\n",
       "      <th>2</th>\n",
       "      <td>Conv_autoencoder</td>\n",
       "      <td>Voltage</td>\n",
       "      <td>0.978429</td>\n",
       "      <td>False</td>\n",
       "    </tr>\n",
       "    <tr>\n",
       "      <th>3</th>\n",
       "      <td>Conv_autoencoder</td>\n",
       "      <td>Global_intensity</td>\n",
       "      <td>0.692393</td>\n",
       "      <td>False</td>\n",
       "    </tr>\n",
       "    <tr>\n",
       "      <th>4</th>\n",
       "      <td>Conv_autoencoder</td>\n",
       "      <td>Sub_metering_1</td>\n",
       "      <td>0.857338</td>\n",
       "      <td>False</td>\n",
       "    </tr>\n",
       "    <tr>\n",
       "      <th>5</th>\n",
       "      <td>Conv_autoencoder</td>\n",
       "      <td>Sub_metering_2</td>\n",
       "      <td>0.572035</td>\n",
       "      <td>False</td>\n",
       "    </tr>\n",
       "    <tr>\n",
       "      <th>6</th>\n",
       "      <td>Conv_autoencoder</td>\n",
       "      <td>Sub_metering_3</td>\n",
       "      <td>0.665714</td>\n",
       "      <td>False</td>\n",
       "    </tr>\n",
       "  </tbody>\n",
       "</table>\n",
       "</div>"
      ],
      "text/plain": [
       "             method                 column   p-value  same_distribution\n",
       "0  Conv_autoencoder    Global_active_power  0.959512              False\n",
       "1  Conv_autoencoder  Global_reactive_power  0.042954               True\n",
       "2  Conv_autoencoder                Voltage  0.978429              False\n",
       "3  Conv_autoencoder       Global_intensity  0.692393              False\n",
       "4  Conv_autoencoder         Sub_metering_1  0.857338              False\n",
       "5  Conv_autoencoder         Sub_metering_2  0.572035              False\n",
       "6  Conv_autoencoder         Sub_metering_3  0.665714              False\n",
       "0  Conv_autoencoder    Global_active_power  0.959512              False\n",
       "1  Conv_autoencoder  Global_reactive_power  0.042954               True\n",
       "2  Conv_autoencoder                Voltage  0.978429              False\n",
       "3  Conv_autoencoder       Global_intensity  0.692393              False\n",
       "4  Conv_autoencoder         Sub_metering_1  0.857338              False\n",
       "5  Conv_autoencoder         Sub_metering_2  0.572035              False\n",
       "6  Conv_autoencoder         Sub_metering_3  0.665714              False"
      ]
     },
     "execution_count": 70,
     "metadata": {},
     "output_type": "execute_result"
    }
   ],
   "source": [
    "tests_classique[tests_classique.method == \"Conv_autoencoder\"]"
   ]
  },
  {
   "cell_type": "code",
   "execution_count": 71,
   "id": "44193302-6124-4f81-b7de-0e74f608df5d",
   "metadata": {
    "tags": []
   },
   "outputs": [
    {
     "data": {
      "text/html": [
       "<div>\n",
       "<style scoped>\n",
       "    .dataframe tbody tr th:only-of-type {\n",
       "        vertical-align: middle;\n",
       "    }\n",
       "\n",
       "    .dataframe tbody tr th {\n",
       "        vertical-align: top;\n",
       "    }\n",
       "\n",
       "    .dataframe thead th {\n",
       "        text-align: right;\n",
       "    }\n",
       "</style>\n",
       "<table border=\"1\" class=\"dataframe\">\n",
       "  <thead>\n",
       "    <tr style=\"text-align: right;\">\n",
       "      <th></th>\n",
       "      <th>method</th>\n",
       "      <th>same_distribution</th>\n",
       "    </tr>\n",
       "  </thead>\n",
       "  <tbody>\n",
       "    <tr>\n",
       "      <th>0</th>\n",
       "      <td>AE</td>\n",
       "      <td>0</td>\n",
       "    </tr>\n",
       "    <tr>\n",
       "      <th>1</th>\n",
       "      <td>Conv_autoencoder</td>\n",
       "      <td>2</td>\n",
       "    </tr>\n",
       "    <tr>\n",
       "      <th>2</th>\n",
       "      <td>LOCF</td>\n",
       "      <td>0</td>\n",
       "    </tr>\n",
       "    <tr>\n",
       "      <th>3</th>\n",
       "      <td>LSTM_autoencoder</td>\n",
       "      <td>2</td>\n",
       "    </tr>\n",
       "    <tr>\n",
       "      <th>4</th>\n",
       "      <td>NOCB</td>\n",
       "      <td>0</td>\n",
       "    </tr>\n",
       "    <tr>\n",
       "      <th>5</th>\n",
       "      <td>Transformer_encoder</td>\n",
       "      <td>0</td>\n",
       "    </tr>\n",
       "    <tr>\n",
       "      <th>6</th>\n",
       "      <td>knn</td>\n",
       "      <td>3</td>\n",
       "    </tr>\n",
       "    <tr>\n",
       "      <th>7</th>\n",
       "      <td>linear_interpolation</td>\n",
       "      <td>0</td>\n",
       "    </tr>\n",
       "    <tr>\n",
       "      <th>8</th>\n",
       "      <td>mean</td>\n",
       "      <td>0</td>\n",
       "    </tr>\n",
       "    <tr>\n",
       "      <th>9</th>\n",
       "      <td>median</td>\n",
       "      <td>6</td>\n",
       "    </tr>\n",
       "    <tr>\n",
       "      <th>10</th>\n",
       "      <td>mice</td>\n",
       "      <td>0</td>\n",
       "    </tr>\n",
       "    <tr>\n",
       "      <th>11</th>\n",
       "      <td>mode</td>\n",
       "      <td>7</td>\n",
       "    </tr>\n",
       "    <tr>\n",
       "      <th>12</th>\n",
       "      <td>spline_interpolation</td>\n",
       "      <td>0</td>\n",
       "    </tr>\n",
       "  </tbody>\n",
       "</table>\n",
       "</div>"
      ],
      "text/plain": [
       "                  method  same_distribution\n",
       "0                     AE                  0\n",
       "1       Conv_autoencoder                  2\n",
       "2                   LOCF                  0\n",
       "3       LSTM_autoencoder                  2\n",
       "4                   NOCB                  0\n",
       "5    Transformer_encoder                  0\n",
       "6                    knn                  3\n",
       "7   linear_interpolation                  0\n",
       "8                   mean                  0\n",
       "9                 median                  6\n",
       "10                  mice                  0\n",
       "11                  mode                  7\n",
       "12  spline_interpolation                  0"
      ]
     },
     "execution_count": 71,
     "metadata": {},
     "output_type": "execute_result"
    }
   ],
   "source": [
    "tests_classique[\"same_distribution\"] = tests_classique[\"same_distribution\"].astype(int)\n",
    "tests_classique.drop(['column','p-value'],axis = 1,inplace=True)\n",
    "tests_classique = tests_classique.groupby(['method'],as_index=False).sum()\n",
    "tests_classique"
   ]
  },
  {
   "cell_type": "code",
   "execution_count": 72,
   "id": "f0ebc0de-f035-4edf-902e-06c666a1d61e",
   "metadata": {
    "tags": []
   },
   "outputs": [],
   "source": [
    "tests_classique = tests_classique.sort_values(by=[\"same_distribution\"],ascending=False)"
   ]
  },
  {
   "cell_type": "code",
   "execution_count": 73,
   "id": "c678683c-591a-42ad-a2c1-58695b173a65",
   "metadata": {
    "tags": []
   },
   "outputs": [
    {
     "data": {
      "text/plain": [
       "Text(0.5, 1.0, 'total number of features with same distribution after imputation')"
      ]
     },
     "execution_count": 73,
     "metadata": {},
     "output_type": "execute_result"
    },
    {
     "data": {
      "image/png": "[encoded data removed]",
      "text/plain": [
       "<Figure size 1200x300 with 1 Axes>"
      ]
     },
     "metadata": {},
     "output_type": "display_data"
    }
   ],
   "source": [
    "sns.barplot(x='same_distribution',y='method',data=tests_classique)\n",
    "plt.title(\"total number of features with same distribution after imputation\")"
   ]
  }
 ],
 "metadata": {
  "kernelspec": {
   "display_name": "Python 3 (ipykernel)",
   "language": "python",
   "name": "python3"
  },
  "language_info": {
   "codemirror_mode": {
    "name": "ipython",
    "version": 3
   },
   "file_extension": ".py",
   "mimetype": "text/x-python",
   "name": "python",
   "nbconvert_exporter": "python",
   "pygments_lexer": "ipython3",
   "version": "3.8.10"
  },
  "vscode": {
   "interpreter": {
    "hash": "916dbcbb3f70747c44a77c7bcd40155683ae19c65e1c03b4aa3499c5328201f1"
   }
  }
 },
 "nbformat": 4,
 "nbformat_minor": 5
}
